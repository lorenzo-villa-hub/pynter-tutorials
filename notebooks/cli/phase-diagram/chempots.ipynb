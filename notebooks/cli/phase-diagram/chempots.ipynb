{
 "cells": [
  {
   "attachments": {},
   "cell_type": "markdown",
   "metadata": {},
   "source": [
    "# Chemical potentials\n",
    "\n",
    "Get chemical potentials of a target phase in its boundaries of stability. Provide components for phase diagram and the composition of the target phase.\n",
    "Store `Reservoirs` object as `json`."
   ]
  },
  {
   "cell_type": "code",
   "execution_count": 3,
   "metadata": {},
   "outputs": [
    {
     "name": "stdout",
     "output_type": "stream",
     "text": [
      "/nfshome/villa/miniconda3/envs/pynter/lib/python3.11/site-packages/pymatgen/ext/matproj.py:185: UserWarning: You are using the legacy MPRester. This version of the MPRester will no longer be updated. To access the latest data with the new MPRester, obtain a new API key from https://materialsproject.org/api and consult the docs at https://docs.materialsproject.org/ for more information.\n",
      "  warnings.warn(\n",
      "\n",
      " Ba-Ti-O phase diagram\n",
      "19 stable phases: \n",
      "TiO, BaO2, Ti3O5, Ti2O, Ba, O2, BaO, Ti3O, Ba2Ti13O22, Ba4Ti13O30, Ba2TiO4, Ti2O3, BaTiO3, Ti6O, TiO2, BaTi2O5, Ti, BaTi8O16, Ba2Ti6O13\n",
      "\n",
      " Chemical potentials of BaTiO3:\n",
      "                                    Ba         Ti          O\n",
      "BaTiO3-BaTi2O5-Ba2Ti6O13    -3.745494  -9.013220  -9.802230\n",
      "BaTiO3-TiO-Ba2TiO4          -2.938591  -8.398576 -10.276079\n",
      "BaTiO3-Ba2TiO4-BaO2         -8.101426 -18.724245  -5.113245\n",
      "BaTiO3-BaO2-O2              -8.432004 -18.889535  -4.947955\n",
      "BaTiO3-BaTi2O5-O2           -8.599768 -18.721770  -4.947955\n",
      "Ba2Ti13O22-BaTiO3-TiO       -3.304857  -8.581710 -10.092946\n",
      "Ba2Ti13O22-BaTiO3-Ba2Ti6O13 -3.708891  -8.961976  -9.831513\n"
     ]
    }
   ],
   "source": [
    "! pynter phase-diagram --elements \"Ba-Ti-O\" --chempots \"BaTiO3\" --save-chempots"
   ]
  },
  {
   "cell_type": "code",
   "execution_count": 4,
   "metadata": {},
   "outputs": [
    {
     "name": "stdout",
     "output_type": "stream",
     "text": [
      "chempots.ipynb\t PD_Ba-Ti-O.pdf       reservoirs_boundary_BaTiO3.json\n",
      "PD_Ba-Ti-O.json  phase_diagram.ipynb  SD_Ba-Ti-O.pdf\n"
     ]
    }
   ],
   "source": [
    "! ls"
   ]
  }
 ],
 "metadata": {
  "kernelspec": {
   "display_name": "pynter",
   "language": "python",
   "name": "python3"
  },
  "language_info": {
   "codemirror_mode": {
    "name": "ipython",
    "version": 3
   },
   "file_extension": ".py",
   "mimetype": "text/x-python",
   "name": "python",
   "nbconvert_exporter": "python",
   "pygments_lexer": "ipython3",
   "version": "3.11.3"
  },
  "orig_nbformat": 4
 },
 "nbformat": 4,
 "nbformat_minor": 2
}
