{
 "cells": [
  {
   "cell_type": "code",
   "execution_count": 3,
   "metadata": {},
   "outputs": [
    {
     "name": "stdout",
     "output_type": "stream",
     "text": [
      "usage: main.py phase-diagram [-h] [-e] [-c] [-sc] [-p]\n",
      "                             [-ps ELEMENTS_STABILITY] [-j] [-s]\n",
      "\n",
      "options:\n",
      "  -h, --help            show this help message and exit\n",
      "  -e , --elements       Components of the phase diagram, provide as \"el1-el2\"\n",
      "                        or -e el1 -e el2\n",
      "  -c , --chempots       Print boundary chempots of target phase\n",
      "  -sc, --save-chempots  Save chempots in Reservoirs object as json\n",
      "  -p, --plot-PD         Plot phase diagram\n",
      "  -ps ELEMENTS_STABILITY, --plot-stability ELEMENTS_STABILITY\n",
      "                        Plot stability diagram, provide elements to be on axis\n",
      "                        as \"el1-el2\" or -ps el1 -ps el2\n",
      "  -j, --json            Save PhaseDiagram as json\n",
      "  -s, --savefig         Save matplotlib figure as pdf\n"
     ]
    }
   ],
   "source": [
    "! main.py phase-diagram --help"
   ]
  },
  {
   "cell_type": "code",
   "execution_count": 7,
   "metadata": {},
   "outputs": [
    {
     "name": "stdout",
     "output_type": "stream",
     "text": [
      "/nfshome/villa/miniconda3/envs/pynter/lib/python3.11/site-packages/pymatgen/ext/matproj.py:185: UserWarning: You are using the legacy MPRester. This version of the MPRester will no longer be updated. To access the latest data with the new MPRester, obtain a new API key from https://materialsproject.org/api and consult the docs at https://docs.materialsproject.org/ for more information.\n",
      "  warnings.warn(\n",
      "\n",
      " Ba-Ti-O phase diagram\n",
      "19 stable phases: \n",
      "TiO, BaO2, Ti3O5, Ti2O, Ba, O2, BaO, Ti3O, Ba2Ti13O22, Ba4Ti13O30, Ba2TiO4, Ti2O3, BaTiO3, Ti6O, TiO2, BaTi2O5, Ti, BaTi8O16, Ba2Ti6O13\n"
     ]
    }
   ],
   "source": [
    "! main.py phase-diagram -e \"Ba-Ti-O\" -j"
   ]
  },
  {
   "cell_type": "code",
   "execution_count": 7,
   "metadata": {},
   "outputs": [
    {
     "name": "stdout",
     "output_type": "stream",
     "text": [
      "/nfshome/villa/miniconda3/envs/pynter/lib/python3.11/site-packages/pymatgen/ext/matproj.py:185: UserWarning: You are using the legacy MPRester. This version of the MPRester will no longer be updated. To access the latest data with the new MPRester, obtain a new API key from https://materialsproject.org/api and consult the docs at https://docs.materialsproject.org/ for more information.\n",
      "  warnings.warn(\n",
      "\n",
      " Ba-Ti-O phase diagram\n",
      "19 stable phases: \n",
      "TiO, BaO2, Ti3O5, Ti2O, Ba, O2, BaO, Ti3O, Ba2Ti13O22, Ba4Ti13O30, Ba2TiO4, Ti2O3, BaTiO3, Ti6O, TiO2, BaTi2O5, Ti, BaTi8O16, Ba2Ti6O13\n"
     ]
    }
   ],
   "source": [
    "! main.py phase-diagram -e \"Ba-Ti-O\" -p -s"
   ]
  },
  {
   "cell_type": "code",
   "execution_count": 1,
   "metadata": {
    "scrolled": true
   },
   "outputs": [
    {
     "name": "stdout",
     "output_type": "stream",
     "text": [
      "PD_Ba-Ti-O.json  PD_Ba-Ti-O.pdf  phase_diagram.ipynb\r\n"
     ]
    }
   ],
   "source": [
    "! ls"
   ]
  },
  {
   "cell_type": "code",
   "execution_count": 8,
   "metadata": {},
   "outputs": [
    {
     "data": {
      "text/html": [
       "\n",
       "        <iframe\n",
       "            width=\"900\"\n",
       "            height=\"600\"\n",
       "            src=\"PD_Ba-Ti-O.pdf\"\n",
       "            frameborder=\"0\"\n",
       "            allowfullscreen\n",
       "            \n",
       "        ></iframe>\n",
       "        "
      ],
      "text/plain": [
       "<IPython.lib.display.IFrame at 0x7f97e86162d0>"
      ]
     },
     "execution_count": 8,
     "metadata": {},
     "output_type": "execute_result"
    }
   ],
   "source": [
    "from IPython.display import IFrame\n",
    "IFrame(\"PD_Ba-Ti-O.pdf\", width=900, height=600)"
   ]
  },
  {
   "cell_type": "code",
   "execution_count": 9,
   "metadata": {},
   "outputs": [
    {
     "name": "stdout",
     "output_type": "stream",
     "text": [
      "/nfshome/villa/miniconda3/envs/pynter/lib/python3.11/site-packages/pymatgen/ext/matproj.py:185: UserWarning: You are using the legacy MPRester. This version of the MPRester will no longer be updated. To access the latest data with the new MPRester, obtain a new API key from https://materialsproject.org/api and consult the docs at https://docs.materialsproject.org/ for more information.\n",
      "  warnings.warn(\n",
      "\n",
      " Ba-Ti-O phase diagram\n",
      "19 stable phases: \n",
      "TiO, BaO2, Ti3O5, Ti2O, Ba, O2, BaO, Ti3O, Ba2Ti13O22, Ba4Ti13O30, Ba2TiO4, Ti2O3, BaTiO3, Ti6O, TiO2, BaTi2O5, Ti, BaTi8O16, Ba2Ti6O13\n"
     ]
    }
   ],
   "source": [
    "! main.py phase-diagram -e \"Ba-Ti-O\" -ps \"Ba-Ti\" -s"
   ]
  },
  {
   "cell_type": "code",
   "execution_count": 11,
   "metadata": {},
   "outputs": [
    {
     "name": "stdout",
     "output_type": "stream",
     "text": [
      "PD_Ba-Ti-O.json  PD_Ba-Ti-O.pdf  phase_diagram.ipynb  SD_Ba-Ti-O.pdf\r\n"
     ]
    }
   ],
   "source": [
    "! ls"
   ]
  },
  {
   "cell_type": "code",
   "execution_count": 12,
   "metadata": {},
   "outputs": [
    {
     "data": {
      "text/html": [
       "\n",
       "        <iframe\n",
       "            width=\"900\"\n",
       "            height=\"600\"\n",
       "            src=\"SD_Ba-Ti-O.pdf\"\n",
       "            frameborder=\"0\"\n",
       "            allowfullscreen\n",
       "            \n",
       "        ></iframe>\n",
       "        "
      ],
      "text/plain": [
       "<IPython.lib.display.IFrame at 0x7f97e860bdd0>"
      ]
     },
     "execution_count": 12,
     "metadata": {},
     "output_type": "execute_result"
    }
   ],
   "source": [
    "from IPython.display import IFrame\n",
    "IFrame(\"SD_Ba-Ti-O.pdf\", width=900, height=600)"
   ]
  }
 ],
 "metadata": {
  "kernelspec": {
   "display_name": "Python 3 (ipykernel)",
   "language": "python",
   "name": "python3"
  },
  "language_info": {
   "codemirror_mode": {
    "name": "ipython",
    "version": 3
   },
   "file_extension": ".py",
   "mimetype": "text/x-python",
   "name": "python",
   "nbconvert_exporter": "python",
   "pygments_lexer": "ipython3",
   "version": "3.11.3"
  }
 },
 "nbformat": 4,
 "nbformat_minor": 2
}
