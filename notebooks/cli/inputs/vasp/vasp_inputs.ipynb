{
 "cells": [
  {
   "cell_type": "code",
   "execution_count": 1,
   "metadata": {},
   "outputs": [
    {
     "name": "stdout",
     "output_type": "stream",
     "text": [
      "usage: pynter inputs vasp [-h] [-id] [-n] [-p] [-in] [-kp] [-pos] [-pot] [-j]\n",
      "                          [-cs] [-dp] [-ec] [-fc] [-kc] [-hse] [-pbe] [-is]\n",
      "\n",
      "options:\n",
      "  -h, --help            show this help message and exit\n",
      "  -id , --materials-project-id \n",
      "                        Materials project ID containing the structure, in case\n",
      "                        the POSCAR is not provided (default: None)\n",
      "  -n , --name           Name of the folder containing input files (default:\n",
      "                        inputs)\n",
      "  -p , --path           Path for input files (default: /nfshome/villa/pynter-\n",
      "                        tutorials/notebooks/cli/inputs/vasp)\n",
      "  -in , --incar         INCAR file with general settings, if not provided\n",
      "                        default settings are used\n",
      "  -kp , --kpoints       KPOINTS file, if not provided default settings are\n",
      "                        used\n",
      "  -pos , --poscar       POSCAR file (default: None)\n",
      "  -pot , --potcar       POTCAR file (default: None)\n",
      "  -j , --job-script     Job script with input job settings\n",
      "  -cs , --charge-states \n",
      "                        Charged states. Provide a list of integer charge\n",
      "                        states\n",
      "  -dp, --dielectric-properties\n",
      "                        Electronic and ionic parts of the dielectric tensor\n",
      "  -ec, --encut-convergence\n",
      "                        Energy cutoff convergence\n",
      "  -fc, --fractional-charge\n",
      "                        Fractional charge linearity\n",
      "  -kc, --kpoints-convergence\n",
      "                        Kpoints convergence\n",
      "  -hse, --hse-relaxation\n",
      "                        5 steps atomic and volume relaxation with HSE\n",
      "  -pbe, --pbe-relaxation\n",
      "                        3 steps atomic and volume relaxation with PBE\n",
      "  -is , --inputsets     Name of a set of inputs from the InputSets class\n"
     ]
    }
   ],
   "source": [
    "! pynter inputs vasp -h"
   ]
  },
  {
   "cell_type": "code",
   "execution_count": 4,
   "metadata": {},
   "outputs": [
    {
     "name": "stdout",
     "output_type": "stream",
     "text": [
      "/nfshome/villa/miniconda3/envs/pynter/lib/python3.11/site-packages/pymatgen/ext/matproj.py:185: UserWarning: You are using the legacy MPRester. This version of the MPRester will no longer be updated. To access the latest data with the new MPRester, obtain a new API key from https://materialsproject.org/api and consult the docs at https://docs.materialsproject.org/ for more information.\n",
      "  warnings.warn(\n",
      "/nfshome/villa/miniconda3/envs/pynter/lib/python3.11/site-packages/pymatgen/symmetry/kpath.py:181: UserWarning: The input structure does not match the expected standard primitive! The path may be incorrect. Use at your own risk.\n",
      "  warn(\n"
     ]
    }
   ],
   "source": [
    "! main.py inputs vasp -id \"mp-149\" --name \"Si-inputs\" -pbe-es"
   ]
  },
  {
   "cell_type": "code",
   "execution_count": 7,
   "metadata": {},
   "outputs": [
    {
     "name": "stdout",
     "output_type": "stream",
     "text": [
      "1-PBE-relax  2-PBE-DOS\t3-PBE-BS\n"
     ]
    }
   ],
   "source": [
    "! ls ./Si-inputs"
   ]
  }
 ],
 "metadata": {
  "kernelspec": {
   "display_name": "pynter",
   "language": "python",
   "name": "python3"
  },
  "language_info": {
   "codemirror_mode": {
    "name": "ipython",
    "version": 3
   },
   "file_extension": ".py",
   "mimetype": "text/x-python",
   "name": "python",
   "nbconvert_exporter": "python",
   "pygments_lexer": "ipython3",
   "version": "3.11.3"
  },
  "orig_nbformat": 4
 },
 "nbformat": 4,
 "nbformat_minor": 2
}
