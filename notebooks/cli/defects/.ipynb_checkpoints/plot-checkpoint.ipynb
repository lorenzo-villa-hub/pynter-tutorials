{
 "cells": [
  {
   "cell_type": "code",
   "execution_count": null,
   "metadata": {},
   "outputs": [],
   "source": [
    "# !pip install pynter-defects"
   ]
  },
  {
   "cell_type": "code",
   "execution_count": 1,
   "metadata": {},
   "outputs": [
    {
     "name": "stdout",
     "output_type": "stream",
     "text": [
      "data  formation_energies.pdf  import.ipynb  plot.ipynb\r\n"
     ]
    }
   ],
   "source": [
    "! ls"
   ]
  },
  {
   "cell_type": "code",
   "execution_count": 2,
   "metadata": {},
   "outputs": [
    {
     "name": "stdout",
     "output_type": "stream",
     "text": [
      "defects_analysis_K27Nb27O81.json  DOS_K27Nb27O81.json\r\n"
     ]
    }
   ],
   "source": [
    "! ls ./data"
   ]
  },
  {
   "cell_type": "code",
   "execution_count": 4,
   "metadata": {},
   "outputs": [
    {
     "name": "stdout",
     "output_type": "stream",
     "text": [
      "usage: pynter defects plot [-h] [-f] [-c] [-e] [-ee] [-b] [-ctl] [-eform] [-r]\r\n",
      "                           [-s]\r\n",
      "\r\n",
      "options:\r\n",
      "  -h, --help            show this help message and exit\r\n",
      "  -f , --file           Json file representation of a DefectAnalysis object\r\n",
      "  -c , --chempots       Chemical potentials, written in a line ( el1 -x el2 -y\r\n",
      "                        el3 -z ). If not provided, elemental chempots are\r\n",
      "                        taken from the Materials Project. Use with care.\r\n",
      "  -e , --exclude        Exclude specific defect types (Vacancy, Substitution,\r\n",
      "                        Interstitial, Polaron, DefectComplex)\r\n",
      "  -ee , --exclude-elements \r\n",
      "                        Exclude defects containing these elements\r\n",
      "  -b, --binding-energies\r\n",
      "                        Plot binding energies\r\n",
      "  -ctl, --charge-transition-levels\r\n",
      "                        Plot formation energies, provide chempots\r\n",
      "  -eform, --formation-energies\r\n",
      "                        Plot formation energies, provide chempots\r\n",
      "  -r , --reservoirs     json file with Reservoirs\r\n",
      "  -s, --savefig         Save plots as pdf\r\n"
     ]
    }
   ],
   "source": [
    "! pynter defects plot -h"
   ]
  },
  {
   "cell_type": "code",
   "execution_count": 5,
   "metadata": {},
   "outputs": [
    {
     "name": "stdout",
     "output_type": "stream",
     "text": [
      "/nfshome/villa/miniconda3/envs/pynter/lib/python3.11/site-packages/pymatgen/ext/matproj.py:185: UserWarning: You are using the legacy MPRester. This version of the MPRester will no longer be updated. To access the latest data with the new MPRester, obtain a new API key from https://materialsproject.org/api and consult the docs at https://docs.materialsproject.org/ for more information.\n",
      "  warnings.warn(\n",
      "/nfshome/villa/miniconda3/envs/pynter/lib/python3.11/site-packages/pymatgen/ext/matproj.py:185: UserWarning: You are using the legacy MPRester. This version of the MPRester will no longer be updated. To access the latest data with the new MPRester, obtain a new API key from https://materialsproject.org/api and consult the docs at https://docs.materialsproject.org/ for more information.\n",
      "  warnings.warn(\n",
      "/nfshome/villa/miniconda3/envs/pynter/lib/python3.11/site-packages/pymatgen/ext/matproj.py:185: UserWarning: You are using the legacy MPRester. This version of the MPRester will no longer be updated. To access the latest data with the new MPRester, obtain a new API key from https://materialsproject.org/api and consult the docs at https://docs.materialsproject.org/ for more information.\n",
      "  warnings.warn(\n",
      "/nfshome/villa/pynter/pynter/cli/defects.py:226: UserWarning: Chemical potentials have not been provided, elemental chemical potentials taken from the Materials Project database. Use with care.\n",
      "  warnings.warn('Chemical potentials have not been provided, elemental chemical potentials taken ' \\\n",
      "Chemical potentials:\n",
      "{'K': -1.11, 'Nb': -10.1, 'O': -4.95}\n"
     ]
    }
   ],
   "source": [
    "! pynter defects plot -f ./data/defects_analysis_K27Nb27O81.json -eform -s"
   ]
  },
  {
   "cell_type": "code",
   "execution_count": 10,
   "metadata": {},
   "outputs": [
    {
     "data": {
      "text/html": [
       "\n",
       "        <iframe\n",
       "            width=\"900\"\n",
       "            height=\"600\"\n",
       "            src=\"formation_energies.pdf\"\n",
       "            frameborder=\"0\"\n",
       "            allowfullscreen\n",
       "            \n",
       "        ></iframe>\n",
       "        "
      ],
      "text/plain": [
       "<IPython.lib.display.IFrame at 0x7fd1043e8450>"
      ]
     },
     "execution_count": 10,
     "metadata": {},
     "output_type": "execute_result"
    }
   ],
   "source": [
    "from IPython.display import IFrame\n",
    "IFrame(\"formation_energies.pdf\", width=900, height=600)"
   ]
  },
  {
   "cell_type": "code",
   "execution_count": 13,
   "metadata": {},
   "outputs": [],
   "source": [
    "! pynter defects plot -f ./data/defects_analysis_K27Nb27O81.json -ctl -s"
   ]
  },
  {
   "cell_type": "code",
   "execution_count": 14,
   "metadata": {},
   "outputs": [
    {
     "data": {
      "text/html": [
       "\n",
       "        <iframe\n",
       "            width=\"900\"\n",
       "            height=\"600\"\n",
       "            src=\"charge_transition_levels.pdf\"\n",
       "            frameborder=\"0\"\n",
       "            allowfullscreen\n",
       "            \n",
       "        ></iframe>\n",
       "        "
      ],
      "text/plain": [
       "<IPython.lib.display.IFrame at 0x7fd1043e8c90>"
      ]
     },
     "execution_count": 14,
     "metadata": {},
     "output_type": "execute_result"
    }
   ],
   "source": [
    "IFrame(\"charge_transition_levels.pdf\", width=900, height=600)"
   ]
  }
 ],
 "metadata": {
  "kernelspec": {
   "display_name": "Python 3 (ipykernel)",
   "language": "python",
   "name": "python3"
  },
  "language_info": {
   "codemirror_mode": {
    "name": "ipython",
    "version": 3
   },
   "file_extension": ".py",
   "mimetype": "text/x-python",
   "name": "python",
   "nbconvert_exporter": "python",
   "pygments_lexer": "ipython3",
   "version": "3.11.3"
  }
 },
 "nbformat": 4,
 "nbformat_minor": 2
}
