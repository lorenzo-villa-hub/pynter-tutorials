{
 "cells": [
  {
   "cell_type": "code",
   "execution_count": null,
   "metadata": {},
   "outputs": [],
   "source": [
    "# ! pip install pynter-defects"
   ]
  },
  {
   "cell_type": "code",
   "execution_count": null,
   "metadata": {},
   "outputs": [
    {
     "name": "stdout",
     "output_type": "stream",
     "text": [
      "CONTCAR\t\t     KN_ortho_vacancies-PBE.json  Nb-vacancy  Pure\n",
      "create_inputs.ipynb  K-vacancy\t\t\t  O-vacancy\n"
     ]
    }
   ],
   "source": [
    "! ls ../vacancies-PBE"
   ]
  },
  {
   "cell_type": "code",
   "execution_count": 2,
   "metadata": {},
   "outputs": [
    {
     "name": "stdout",
     "output_type": "stream",
     "text": [
      "usage: pynter defects [-h] {inputs,import,plot,analysis} ...\n",
      "\n",
      "positional arguments:\n",
      "  {inputs,import,plot,analysis}\n",
      "    inputs              Create inputs for VASP DFT calculations\n",
      "    import              Create defect entries from VASP DFT calculations\n",
      "    plot                Plot collection of defect entries\n",
      "    analysis            Analyse collection of defect entries\n",
      "\n",
      "options:\n",
      "  -h, --help            show this help message and exit\n"
     ]
    }
   ],
   "source": [
    "! pynter defects -h"
   ]
  },
  {
   "cell_type": "code",
   "execution_count": 3,
   "metadata": {},
   "outputs": [
    {
     "name": "stdout",
     "output_type": "stream",
     "text": [
      "usage: pynter defects import [-h] -pb  [-p] [-e] [-c] [-dt] [-j] [-t] [-s]\n",
      "\n",
      "options:\n",
      "  -h, --help            show this help message and exit\n",
      "  -pb , --path-bulk     Path to bulk calculation\n",
      "  -p , --path           Path to defect calculations, can contain wildcards\n",
      "                        (default: /nfshome/villa/local-data/KN/ortho/test-\n",
      "                        pynter-cli)\n",
      "  -e , --exclude        Exclude specific defect types (Vacancy, Substitution,\n",
      "                        Interstitial, Polaron, DefectComplex)\n",
      "  -c, --corrections     Compute Kumagai corrections (default: False)\n",
      "  -dt , --dielectric-tensor \n",
      "                        Dielectric constant or tensor, if tensor write the\n",
      "                        matrix in a line (a11 a12 a13 a21 a22 a23 a31 a32 a33)\n",
      "  -j , --job-script-filename \n",
      "                        Job script filename (default: job.sh)\n",
      "  -t , --tolerance      Tolerance in A° for automatic defect finding (default:\n",
      "                        0.01)\n",
      "  -s, --savejson        Save DefectsAnalysis and bulk DOS objects as json\n",
      "                        (default: False)\n"
     ]
    }
   ],
   "source": [
    "! pynter defects import -h"
   ]
  },
  {
   "cell_type": "code",
   "execution_count": 4,
   "metadata": {},
   "outputs": [
    {
     "name": "stdout",
     "output_type": "stream",
     "text": [
      "\n",
      "Calculations imported from:\n",
      "                               formula       group  ... is_converged  charge\n",
      "job_name                                            ...                     \n",
      "K-vacancy_q-1_PBE-rel_2   K26 Nb27 O81   K-vacancy  ...         True    -1.0\n",
      "K-vacancy_q0_PBE-rel_2    K26 Nb27 O81   K-vacancy  ...         True     0.0\n",
      "K-vacancy_q1_PBE-rel_2    K26 Nb27 O81   K-vacancy  ...         True     1.0\n",
      "Nb-vacancy_q-1_PBE-rel_2  K27 Nb26 O81  Nb-vacancy  ...         True    -1.0\n",
      "Nb-vacancy_q-2_PBE-rel_2  K27 Nb26 O81  Nb-vacancy  ...         True    -2.0\n",
      "Nb-vacancy_q-3_PBE-rel_2  K27 Nb26 O81  Nb-vacancy  ...         True    -3.0\n",
      "Nb-vacancy_q-4_PBE-rel_2  K27 Nb26 O81  Nb-vacancy  ...         True    -4.0\n",
      "Nb-vacancy_q-5_PBE-rel_2  K27 Nb26 O81  Nb-vacancy  ...         True    -5.0\n",
      "Nb-vacancy_q0_PBE-rel_2   K27 Nb26 O81  Nb-vacancy  ...         True     0.0\n",
      "O-vacancy_q-1_PBE-rel_2   K27 Nb27 O80   O-vacancy  ...         True    -1.0\n",
      "O-vacancy_q-2_PBE-rel_2   K27 Nb27 O80   O-vacancy  ...         True    -2.0\n",
      "O-vacancy_q0_PBE-rel_2    K27 Nb27 O80   O-vacancy  ...         True     0.0\n",
      "O-vacancy_q1_PBE-rel_2    K27 Nb27 O80   O-vacancy  ...         True     1.0\n",
      "O-vacancy_q2_PBE-rel_2    K27 Nb27 O80   O-vacancy  ...         True     2.0\n",
      "\n",
      "[14 rows x 5 columns]\n",
      "\n",
      "DefectsAnalysis:\n",
      "          symbol delta atoms  charge  multiplicity\n",
      "name                                              \n",
      "Vac_K    $V_{K}$   {'K': -1}    -1.0            27\n",
      "Vac_K    $V_{K}$   {'K': -1}     0.0            27\n",
      "Vac_K    $V_{K}$   {'K': -1}     1.0            27\n",
      "Vac_Nb  $V_{Nb}$  {'Nb': -1}    -5.0            27\n",
      "Vac_Nb  $V_{Nb}$  {'Nb': -1}    -4.0            27\n",
      "Vac_Nb  $V_{Nb}$  {'Nb': -1}    -3.0            27\n",
      "Vac_Nb  $V_{Nb}$  {'Nb': -1}    -2.0            27\n",
      "Vac_Nb  $V_{Nb}$  {'Nb': -1}    -1.0            27\n",
      "Vac_Nb  $V_{Nb}$  {'Nb': -1}     0.0            27\n",
      "Vac_O    $V_{O}$   {'O': -1}    -2.0            54\n",
      "Vac_O    $V_{O}$   {'O': -1}    -1.0            54\n",
      "Vac_O    $V_{O}$   {'O': -1}     0.0            54\n",
      "Vac_O    $V_{O}$   {'O': -1}     1.0            54\n",
      "Vac_O    $V_{O}$   {'O': -1}     2.0            54\n",
      "\n",
      "DefectsAnalysis object saved as defects_analysis_K27Nb27O81.json\n",
      "DOS object saved as DOS_K27Nb27O81.json\n"
     ]
    }
   ],
   "source": [
    "! pynter defects import --path-bulk ../vacancies-PBE/Pure --path ../vacancies-PBE -s "
   ]
  }
 ],
 "metadata": {
  "kernelspec": {
   "display_name": "pynter",
   "language": "python",
   "name": "python3"
  },
  "language_info": {
   "codemirror_mode": {
    "name": "ipython",
    "version": 3
   },
   "file_extension": ".py",
   "mimetype": "text/x-python",
   "name": "python",
   "nbconvert_exporter": "python",
   "pygments_lexer": "ipython3",
   "version": "3.11.3"
  },
  "orig_nbformat": 4
 },
 "nbformat": 4,
 "nbformat_minor": 2
}
