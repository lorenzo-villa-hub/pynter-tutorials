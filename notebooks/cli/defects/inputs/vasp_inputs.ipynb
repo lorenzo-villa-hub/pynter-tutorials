{
 "cells": [
  {
   "cell_type": "markdown",
   "metadata": {},
   "source": [
    "# Create VASP inputs for defect calculations"
   ]
  },
  {
   "cell_type": "code",
   "execution_count": 5,
   "metadata": {},
   "outputs": [
    {
     "name": "stdout",
     "output_type": "stream",
     "text": [
      "usage: main.py defects inputs vasp [-h] [-id] [-n] [-p] [-in] [-kp] [-pos]\n",
      "                                   [-pot] [-j] [-auto] [-ss] [-rel] [-sub]\n",
      "                                   [-vac]\n",
      "\n",
      "options:\n",
      "  -h, --help            show this help message and exit\n",
      "  -id , --materials-project-id \n",
      "                        Materials project ID containing the structure, in case\n",
      "                        the POSCAR is not provided (default: None)\n",
      "  -n , --name           Name of the folder containing input files (default:\n",
      "                        inputs)\n",
      "  -p , --path           Path for input files (default: /nfshome/villa/pynter-\n",
      "                        tutorials/notebooks/cli/defects/inputs)\n",
      "  -in , --incar         INCAR file with general settings, if not provided\n",
      "                        default settings are used\n",
      "  -kp , --kpoints       KPOINTS file, if not provided default settings are\n",
      "                        used\n",
      "  -pos , --poscar       POSCAR file (default: None)\n",
      "  -pot , --potcar       POTCAR file (default: None)\n",
      "  -j , --job-script     Job script with input job settings\n",
      "  -auto, --automation   Add default automation to job script\n",
      "  -ss , --supercell-size \n",
      "                        Size of the supercell (integer or list)\n",
      "  -rel , --relaxation-scheme \n",
      "                        Relaxation scheme to use, choose between \"default\"\n",
      "                        (2-step PBE) and \"gamma\" (4-step PBE) (default:\n",
      "                        default)\n",
      "  -sub , --substitutions \n",
      "                        \"Substituions inputs. Provide elements and charges as\n",
      "                        '{\"<new_el>-on-<old_el>\":[q0,q1,q2]}'\n",
      "  -vac , --vacancies    Vacancies inputs. Provide elements and charges as\n",
      "                        '{\"el\":[q0,q1,q2]}'\n"
     ]
    }
   ],
   "source": [
    "! pynter defects inputs vasp -h"
   ]
  },
  {
   "cell_type": "code",
   "execution_count": 6,
   "metadata": {},
   "outputs": [
    {
     "name": "stdout",
     "output_type": "stream",
     "text": [
      "/nfshome/villa/miniconda3/envs/pynter/lib/python3.11/site-packages/pymatgen/ext/matproj.py:185: UserWarning: You are using the legacy MPRester. This version of the MPRester will no longer be updated. To access the latest data with the new MPRester, obtain a new API key from https://materialsproject.org/api and consult the docs at https://docs.materialsproject.org/ for more information.\n",
      "  warnings.warn(\n"
     ]
    }
   ],
   "source": [
    "! pynter defects inputs vasp -id \"mp-149\" --name \"Si-defects\" --supercell-size 3 --substitutions '{\"P-on-Si\":[0,1,2]}' --vacancies '{\"Si\":[-1,0,1]}'"
   ]
  },
  {
   "cell_type": "markdown",
   "metadata": {},
   "source": [
    "## Check VASP input files"
   ]
  },
  {
   "cell_type": "code",
   "execution_count": 7,
   "metadata": {},
   "outputs": [],
   "source": [
    "from pynter.data.datasets import Dataset"
   ]
  },
  {
   "cell_type": "code",
   "execution_count": 8,
   "metadata": {},
   "outputs": [
    {
     "name": "stderr",
     "output_type": "stream",
     "text": [
      "/nfshome/villa/miniconda3/envs/pynter/lib/python3.11/site-packages/pymatgen/io/vasp/inputs.py:1835: UnknownPotcarWarning: POTCAR data with symbol Si does not match any VASP POTCAR known to pymatgen. There is a possibility your POTCAR is corrupted or that the pymatgen database is incomplete.\n",
      "  warnings.warn(\n",
      "/nfshome/villa/miniconda3/envs/pynter/lib/python3.11/site-packages/pymatgen/io/vasp/inputs.py:1835: UnknownPotcarWarning: POTCAR data with symbol P does not match any VASP POTCAR known to pymatgen. There is a possibility your POTCAR is corrupted or that the pymatgen database is incomplete.\n",
      "  warnings.warn(\n"
     ]
    }
   ],
   "source": [
    "ds = Dataset.from_directory()"
   ]
  },
  {
   "cell_type": "code",
   "execution_count": 10,
   "metadata": {},
   "outputs": [
    {
     "data": {
      "text/html": [
       "<div>\n",
       "<style scoped>\n",
       "    .dataframe tbody tr th:only-of-type {\n",
       "        vertical-align: middle;\n",
       "    }\n",
       "\n",
       "    .dataframe tbody tr th {\n",
       "        vertical-align: top;\n",
       "    }\n",
       "\n",
       "    .dataframe thead th {\n",
       "        text-align: right;\n",
       "    }\n",
       "</style>\n",
       "<table border=\"1\" class=\"dataframe\">\n",
       "  <thead>\n",
       "    <tr style=\"text-align: right;\">\n",
       "      <th></th>\n",
       "      <th>formula</th>\n",
       "      <th>group</th>\n",
       "      <th>nodes</th>\n",
       "      <th>is_converged</th>\n",
       "      <th>charge</th>\n",
       "    </tr>\n",
       "    <tr>\n",
       "      <th>job_name</th>\n",
       "      <th></th>\n",
       "      <th></th>\n",
       "      <th></th>\n",
       "      <th></th>\n",
       "      <th></th>\n",
       "    </tr>\n",
       "  </thead>\n",
       "  <tbody>\n",
       "    <tr>\n",
       "      <th>Si-defects_Sub_P_on_Si_q0_PBE-rel_1</th>\n",
       "      <td>Si53 P1</td>\n",
       "      <td>Sub_P_on_Si</td>\n",
       "      <td>/q0/1-PBE-SCF</td>\n",
       "      <td>None</td>\n",
       "      <td>0.0</td>\n",
       "    </tr>\n",
       "    <tr>\n",
       "      <th>Si-defects_Sub_P_on_Si_q0_PBE-rel_2</th>\n",
       "      <td>Si53 P1</td>\n",
       "      <td>Sub_P_on_Si</td>\n",
       "      <td>/q0/2-PBE-OPT</td>\n",
       "      <td>None</td>\n",
       "      <td>0.0</td>\n",
       "    </tr>\n",
       "    <tr>\n",
       "      <th>Si-defects_Sub_P_on_Si_q1_PBE-rel_1</th>\n",
       "      <td>Si53 P1</td>\n",
       "      <td>Sub_P_on_Si</td>\n",
       "      <td>/q1/1-PBE-SCF</td>\n",
       "      <td>None</td>\n",
       "      <td>1.0</td>\n",
       "    </tr>\n",
       "    <tr>\n",
       "      <th>Si-defects_Sub_P_on_Si_q1_PBE-rel_2</th>\n",
       "      <td>Si53 P1</td>\n",
       "      <td>Sub_P_on_Si</td>\n",
       "      <td>/q1/2-PBE-OPT</td>\n",
       "      <td>None</td>\n",
       "      <td>1.0</td>\n",
       "    </tr>\n",
       "    <tr>\n",
       "      <th>Si-defects_Sub_P_on_Si_q2_PBE-rel_1</th>\n",
       "      <td>Si53 P1</td>\n",
       "      <td>Sub_P_on_Si</td>\n",
       "      <td>/q2/1-PBE-SCF</td>\n",
       "      <td>None</td>\n",
       "      <td>2.0</td>\n",
       "    </tr>\n",
       "    <tr>\n",
       "      <th>Si-defects_Sub_P_on_Si_q2_PBE-rel_2</th>\n",
       "      <td>Si53 P1</td>\n",
       "      <td>Sub_P_on_Si</td>\n",
       "      <td>/q2/2-PBE-OPT</td>\n",
       "      <td>None</td>\n",
       "      <td>2.0</td>\n",
       "    </tr>\n",
       "    <tr>\n",
       "      <th>Si-defects_Vac_Si_q-1_PBE-rel_1</th>\n",
       "      <td>Si53</td>\n",
       "      <td>Vac_Si</td>\n",
       "      <td>/q-1/1-PBE-SCF</td>\n",
       "      <td>None</td>\n",
       "      <td>-1.0</td>\n",
       "    </tr>\n",
       "    <tr>\n",
       "      <th>Si-defects_Vac_Si_q-1_PBE-rel_2</th>\n",
       "      <td>Si53</td>\n",
       "      <td>Vac_Si</td>\n",
       "      <td>/q-1/2-PBE-OPT</td>\n",
       "      <td>None</td>\n",
       "      <td>-1.0</td>\n",
       "    </tr>\n",
       "    <tr>\n",
       "      <th>Si-defects_Vac_Si_q0_PBE-rel_1</th>\n",
       "      <td>Si53</td>\n",
       "      <td>Vac_Si</td>\n",
       "      <td>/q0/1-PBE-SCF</td>\n",
       "      <td>None</td>\n",
       "      <td>0.0</td>\n",
       "    </tr>\n",
       "    <tr>\n",
       "      <th>Si-defects_Vac_Si_q0_PBE-rel_2</th>\n",
       "      <td>Si53</td>\n",
       "      <td>Vac_Si</td>\n",
       "      <td>/q0/2-PBE-OPT</td>\n",
       "      <td>None</td>\n",
       "      <td>0.0</td>\n",
       "    </tr>\n",
       "    <tr>\n",
       "      <th>Si-defects_Vac_Si_q1_PBE-rel_1</th>\n",
       "      <td>Si53</td>\n",
       "      <td>Vac_Si</td>\n",
       "      <td>/q1/1-PBE-SCF</td>\n",
       "      <td>None</td>\n",
       "      <td>1.0</td>\n",
       "    </tr>\n",
       "    <tr>\n",
       "      <th>Si-defects_Vac_Si_q1_PBE-rel_2</th>\n",
       "      <td>Si53</td>\n",
       "      <td>Vac_Si</td>\n",
       "      <td>/q1/2-PBE-OPT</td>\n",
       "      <td>None</td>\n",
       "      <td>1.0</td>\n",
       "    </tr>\n",
       "  </tbody>\n",
       "</table>\n",
       "</div>"
      ],
      "text/plain": [
       "                                     formula        group  ... is_converged charge\n",
       "job_name                                                   ...                    \n",
       "Si-defects_Sub_P_on_Si_q0_PBE-rel_1  Si53 P1  Sub_P_on_Si  ...         None    0.0\n",
       "Si-defects_Sub_P_on_Si_q0_PBE-rel_2  Si53 P1  Sub_P_on_Si  ...         None    0.0\n",
       "Si-defects_Sub_P_on_Si_q1_PBE-rel_1  Si53 P1  Sub_P_on_Si  ...         None    1.0\n",
       "Si-defects_Sub_P_on_Si_q1_PBE-rel_2  Si53 P1  Sub_P_on_Si  ...         None    1.0\n",
       "Si-defects_Sub_P_on_Si_q2_PBE-rel_1  Si53 P1  Sub_P_on_Si  ...         None    2.0\n",
       "Si-defects_Sub_P_on_Si_q2_PBE-rel_2  Si53 P1  Sub_P_on_Si  ...         None    2.0\n",
       "Si-defects_Vac_Si_q-1_PBE-rel_1         Si53       Vac_Si  ...         None   -1.0\n",
       "Si-defects_Vac_Si_q-1_PBE-rel_2         Si53       Vac_Si  ...         None   -1.0\n",
       "Si-defects_Vac_Si_q0_PBE-rel_1          Si53       Vac_Si  ...         None    0.0\n",
       "Si-defects_Vac_Si_q0_PBE-rel_2          Si53       Vac_Si  ...         None    0.0\n",
       "Si-defects_Vac_Si_q1_PBE-rel_1          Si53       Vac_Si  ...         None    1.0\n",
       "Si-defects_Vac_Si_q1_PBE-rel_2          Si53       Vac_Si  ...         None    1.0\n",
       "\n",
       "[12 rows x 5 columns]"
      ]
     },
     "execution_count": 10,
     "metadata": {},
     "output_type": "execute_result"
    }
   ],
   "source": [
    "ds.jobs_table(display=['charge'])"
   ]
  }
 ],
 "metadata": {
  "kernelspec": {
   "display_name": "pynter",
   "language": "python",
   "name": "python3"
  },
  "language_info": {
   "codemirror_mode": {
    "name": "ipython",
    "version": 3
   },
   "file_extension": ".py",
   "mimetype": "text/x-python",
   "name": "python",
   "nbconvert_exporter": "python",
   "pygments_lexer": "ipython3",
   "version": "3.11.3"
  },
  "orig_nbformat": 4
 },
 "nbformat": 4,
 "nbformat_minor": 2
}
