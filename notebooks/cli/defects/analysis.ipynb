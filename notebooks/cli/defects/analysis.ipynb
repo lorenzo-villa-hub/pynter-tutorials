{
 "cells": [
  {
   "cell_type": "markdown",
   "metadata": {},
   "source": [
    "# Analyse collection of defects stored in `DefectsAnalysis` file"
   ]
  },
  {
   "cell_type": "code",
   "execution_count": 1,
   "metadata": {},
   "outputs": [
    {
     "name": "stdout",
     "output_type": "stream",
     "text": [
      "defects_analysis_K27Nb27O81.json  DOS_K27Nb27O81.json\n"
     ]
    }
   ],
   "source": [
    "! ls ./data"
   ]
  },
  {
   "cell_type": "code",
   "execution_count": 2,
   "metadata": {},
   "outputs": [
    {
     "name": "stdout",
     "output_type": "stream",
     "text": [
      "usage: pynter defects [-h] {inputs,import,plot,analysis} ...\n",
      "\n",
      "positional arguments:\n",
      "  {inputs,import,plot,analysis}\n",
      "    inputs              Create inputs for VASP DFT calculations\n",
      "    import              Create defect entries from VASP DFT calculations\n",
      "    plot                Plot collection of defect entries\n",
      "    analysis            Analyse collection of defect entries\n",
      "\n",
      "options:\n",
      "  -h, --help            show this help message and exit\n"
     ]
    }
   ],
   "source": [
    "! pynter defects -h"
   ]
  },
  {
   "cell_type": "code",
   "execution_count": 3,
   "metadata": {},
   "outputs": [
    {
     "name": "stdout",
     "output_type": "stream",
     "text": [
      "usage: pynter defects analysis [-h] [-f] [-c] [-e] [-ee] [-d] [-ef] [-T] [-cc]\n",
      "                               [-ctl] [-dc] [-eform] [-sef]\n",
      "\n",
      "options:\n",
      "  -h, --help            show this help message and exit\n",
      "  -f , --file           Json file representation of a DefectAnalysis object\n",
      "  -c , --chempots       Chemical potentials, written in a line ( el1 -x el2 -y\n",
      "                        el3 -z ). If not provided, elemental chempots are\n",
      "                        taken from the Materials Project. Use with care.\n",
      "  -e , --exclude        Exclude specific defect types (Vacancy, Substitution,\n",
      "                        Interstitial, Polaron, DefectComplex)\n",
      "  -ee , --exclude-elements \n",
      "                        Exclude defects containing these elements\n",
      "  -d , --dos            Bulk DOS json file\n",
      "  -ef , --fermi         Input Fermi level (default: 0)\n",
      "  -T , --temperature    Input temperature (default: 300)\n",
      "  -cc, --carrier-concentrations\n",
      "                        Compute carrier concentrations, provide Fermi level,\n",
      "                        chempots and DOS json file\n",
      "  -ctl, --charge-transition-levels\n",
      "                        Compute charge transition levels\n",
      "  -dc, --defect-concentrations\n",
      "                        Compute defect concentrations, provide Fermi level and\n",
      "                        chempots\n",
      "  -eform, --formation-energies\n",
      "                        Compute formation energies, provide chemical\n",
      "                        potentials\n",
      "  -sef, --solve-fermi-level\n",
      "                        Solve charge neutrality to get Fermi level, provide\n",
      "                        chempots and DOS json file\n"
     ]
    }
   ],
   "source": [
    "! pynter defects analysis -h"
   ]
  },
  {
   "attachments": {},
   "cell_type": "markdown",
   "metadata": {},
   "source": [
    "# Print formation energies\n",
    "\n",
    "Get formation energies at a specific fermi level. The format is:\n",
    "```python\n",
    "{\"name\":[[q1:Ef1],\n",
    "         [q2:Ef2]}\n",
    "```\n",
    "If chemical potentials are not provided, the elemental chemical potentials are taken from the Materials Project database. This is only for quick and dirty calculations, always compute and carefully choose your chemical potentials!"
   ]
  },
  {
   "cell_type": "code",
   "execution_count": 4,
   "metadata": {},
   "outputs": [
    {
     "name": "stdout",
     "output_type": "stream",
     "text": [
      "/nfshome/villa/miniconda3/envs/pynter/lib/python3.11/site-packages/pymatgen/ext/matproj.py:185: UserWarning: You are using the legacy MPRester. This version of the MPRester will no longer be updated. To access the latest data with the new MPRester, obtain a new API key from https://materialsproject.org/api and consult the docs at https://docs.materialsproject.org/ for more information.\n",
      "  warnings.warn(\n",
      "/nfshome/villa/miniconda3/envs/pynter/lib/python3.11/site-packages/pymatgen/ext/matproj.py:185: UserWarning: You are using the legacy MPRester. This version of the MPRester will no longer be updated. To access the latest data with the new MPRester, obtain a new API key from https://materialsproject.org/api and consult the docs at https://docs.materialsproject.org/ for more information.\n",
      "  warnings.warn(\n",
      "/nfshome/villa/miniconda3/envs/pynter/lib/python3.11/site-packages/pymatgen/ext/matproj.py:185: UserWarning: You are using the legacy MPRester. This version of the MPRester will no longer be updated. To access the latest data with the new MPRester, obtain a new API key from https://materialsproject.org/api and consult the docs at https://docs.materialsproject.org/ for more information.\n",
      "  warnings.warn(\n",
      "/nfshome/villa/pynter/pynter/cli/defects.py:227: UserWarning: Chemical potentials have not been provided, elemental chemical potentials taken from the Materials Project database. Use with care.\n",
      "  warnings.warn('Chemical potentials have not been provided, elemental chemical potentials taken ' \\\n",
      "Chemical potentials:\n",
      "{'K': -1.11, 'Nb': -10.1, 'O': -4.95}\n",
      "\n",
      "Formation energies:\n",
      "{'Vac_K': [[-1.0, 4.09], [0.0, 4.17], [1.0, 4.32]],\n",
      " 'Vac_Nb': [[-5.0, 15.52],\n",
      "            [-4.0, 15.42],\n",
      "            [-3.0, 15.5],\n",
      "            [-2.0, 15.68],\n",
      "            [-1.0, 15.91],\n",
      "            [0.0, 16.19]],\n",
      " 'Vac_O': [[-2.0, 9.11], [-1.0, 6.89], [0.0, 4.68], [1.0, 2.5], [2.0, 0.46]]}\n"
     ]
    }
   ],
   "source": [
    "! pynter defects analysis -f ./data/defects_analysis_K27Nb27O81.json -eform"
   ]
  },
  {
   "cell_type": "code",
   "execution_count": 5,
   "metadata": {},
   "outputs": [
    {
     "name": "stdout",
     "output_type": "stream",
     "text": [
      "/nfshome/villa/miniconda3/envs/pynter/lib/python3.11/site-packages/pymatgen/ext/matproj.py:185: UserWarning: You are using the legacy MPRester. This version of the MPRester will no longer be updated. To access the latest data with the new MPRester, obtain a new API key from https://materialsproject.org/api and consult the docs at https://docs.materialsproject.org/ for more information.\n",
      "  warnings.warn(\n",
      "/nfshome/villa/miniconda3/envs/pynter/lib/python3.11/site-packages/pymatgen/ext/matproj.py:185: UserWarning: You are using the legacy MPRester. This version of the MPRester will no longer be updated. To access the latest data with the new MPRester, obtain a new API key from https://materialsproject.org/api and consult the docs at https://docs.materialsproject.org/ for more information.\n",
      "  warnings.warn(\n",
      "/nfshome/villa/miniconda3/envs/pynter/lib/python3.11/site-packages/pymatgen/ext/matproj.py:185: UserWarning: You are using the legacy MPRester. This version of the MPRester will no longer be updated. To access the latest data with the new MPRester, obtain a new API key from https://materialsproject.org/api and consult the docs at https://docs.materialsproject.org/ for more information.\n",
      "  warnings.warn(\n",
      "/nfshome/villa/pynter/pynter/cli/defects.py:227: UserWarning: Chemical potentials have not been provided, elemental chemical potentials taken from the Materials Project database. Use with care.\n",
      "  warnings.warn('Chemical potentials have not been provided, elemental chemical potentials taken ' \\\n",
      "Chemical potentials:\n",
      "{'K': -1.11, 'Nb': -10.1, 'O': -4.95}\n",
      "\n",
      "Formation energies:\n",
      "{'Vac_K': [[-1.0, 2.89], [0.0, 4.17], [1.0, 5.52]],\n",
      " 'Vac_Nb': [[-5.0, 9.52],\n",
      "            [-4.0, 10.62],\n",
      "            [-3.0, 11.9],\n",
      "            [-2.0, 13.28],\n",
      "            [-1.0, 14.71],\n",
      "            [0.0, 16.19]],\n",
      " 'Vac_O': [[-2.0, 6.71], [-1.0, 5.69], [0.0, 4.68], [1.0, 3.7], [2.0, 2.86]]}\n"
     ]
    }
   ],
   "source": [
    "! pynter defects analysis -f ./data/defects_analysis_K27Nb27O81.json -eform -ef 1.2"
   ]
  },
  {
   "attachments": {},
   "cell_type": "markdown",
   "metadata": {},
   "source": [
    "# Equilibrium Fermi level\n",
    "\n",
    "Determine the Fermi level solving the charge neutrality equation."
   ]
  },
  {
   "cell_type": "code",
   "execution_count": 6,
   "metadata": {},
   "outputs": [
    {
     "name": "stdout",
     "output_type": "stream",
     "text": [
      "/nfshome/villa/miniconda3/envs/pynter/lib/python3.11/site-packages/pymatgen/ext/matproj.py:185: UserWarning: You are using the legacy MPRester. This version of the MPRester will no longer be updated. To access the latest data with the new MPRester, obtain a new API key from https://materialsproject.org/api and consult the docs at https://docs.materialsproject.org/ for more information.\n",
      "  warnings.warn(\n",
      "/nfshome/villa/miniconda3/envs/pynter/lib/python3.11/site-packages/pymatgen/ext/matproj.py:185: UserWarning: You are using the legacy MPRester. This version of the MPRester will no longer be updated. To access the latest data with the new MPRester, obtain a new API key from https://materialsproject.org/api and consult the docs at https://docs.materialsproject.org/ for more information.\n",
      "  warnings.warn(\n",
      "/nfshome/villa/miniconda3/envs/pynter/lib/python3.11/site-packages/pymatgen/ext/matproj.py:185: UserWarning: You are using the legacy MPRester. This version of the MPRester will no longer be updated. To access the latest data with the new MPRester, obtain a new API key from https://materialsproject.org/api and consult the docs at https://docs.materialsproject.org/ for more information.\n",
      "  warnings.warn(\n",
      "/nfshome/villa/pynter/pynter/cli/defects.py:227: UserWarning: Chemical potentials have not been provided, elemental chemical potentials taken from the Materials Project database. Use with care.\n",
      "  warnings.warn('Chemical potentials have not been provided, elemental chemical potentials taken ' \\\n",
      "Chemical potentials:\n",
      "{'K': -1.11, 'Nb': -10.1, 'O': -4.95}\n",
      "/nfshome/villa/pynter/pynter/defects/pmg/pmg_dos.py:1029: RuntimeWarning: overflow encountered in exp\n",
      "  return 1. / (1. + np.exp((fermi - E) / (_cd(\"Boltzmann constant in eV/K\") * T)))\n",
      "\n",
      "Equilibrium Fermi level:\n",
      " 1.0013\n"
     ]
    }
   ],
   "source": [
    "! pynter defects analysis -f ./data/defects_analysis_K27Nb27O81.json -d ./data/DOS_K27Nb27O81.json -sef"
   ]
  }
 ],
 "metadata": {
  "kernelspec": {
   "display_name": "pynter",
   "language": "python",
   "name": "python3"
  },
  "language_info": {
   "codemirror_mode": {
    "name": "ipython",
    "version": 3
   },
   "file_extension": ".py",
   "mimetype": "text/x-python",
   "name": "python",
   "nbconvert_exporter": "python",
   "pygments_lexer": "ipython3",
   "version": "3.11.3"
  },
  "orig_nbformat": 4
 },
 "nbformat": 4,
 "nbformat_minor": 2
}
