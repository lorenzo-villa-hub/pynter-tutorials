{
 "cells": [
  {
   "attachments": {},
   "cell_type": "markdown",
   "metadata": {},
   "source": [
    "# Create PhaseDiagram object from the Materials Project database"
   ]
  },
  {
   "cell_type": "code",
   "execution_count": 2,
   "metadata": {},
   "outputs": [],
   "source": [
    "import json\n",
    "from pymatgen.ext.matproj import MPRester\n",
    "from pymatgen.entries.compatibility import MaterialsProjectCompatibility\n",
    "from pymatgen.analysis.phase_diagram import PhaseDiagram\n",
    "from pynter import SETTINGS\n",
    "from pynter.tools.utils import save_object_as_json, get_object_from_json"
   ]
  },
  {
   "attachments": {},
   "cell_type": "markdown",
   "metadata": {},
   "source": [
    "Get `PhaseDiagram` from the database"
   ]
  },
  {
   "cell_type": "code",
   "execution_count": 4,
   "metadata": {},
   "outputs": [
    {
     "name": "stderr",
     "output_type": "stream",
     "text": [
      "/nfshome/villa/miniconda3/envs/recent/lib/python3.11/site-packages/pymatgen/ext/matproj.py:183: UserWarning: You are using the legacy MPRester. This version of the MPRester will no longer be updated. To access the latest data with the new MPRester, obtain a new API key from https://materialsproject.org/api and consult the docs at https://docs.materialsproject.org/ for more information.\n",
      "  warnings.warn(\n"
     ]
    }
   ],
   "source": [
    "system = ['Na','Nb','O']  # system we want to get PD for\n",
    "\n",
    "MAPI_KEY = SETTINGS['API_KEY']  # You must change this to your Materials API key! (or set MAPI_KEY env variable)\n",
    "system_name = '-'.join(system)\n",
    "\n",
    "mpr = MPRester(MAPI_KEY)  # object for connecting to MP Rest interface\n",
    "compat = MaterialsProjectCompatibility()  # sets energy corrections and +U/pseudopotential choice\n",
    "\n",
    "unprocessed_entries = mpr.get_entries_in_chemsys(system,inc_structure=True)\n",
    "processed_entries = compat.process_entries(unprocessed_entries)  # filter and add energy corrections\n",
    "\n",
    "pd = PhaseDiagram(processed_entries)"
   ]
  },
  {
   "attachments": {},
   "cell_type": "markdown",
   "metadata": {},
   "source": [
    "Save object as `json`\n"
   ]
  },
  {
   "cell_type": "code",
   "execution_count": 3,
   "metadata": {},
   "outputs": [],
   "source": [
    "save_object_as_json(pd,'./data/PD_Na-Nb-O.json')"
   ]
  },
  {
   "cell_type": "code",
   "execution_count": 6,
   "metadata": {},
   "outputs": [
    {
     "data": {
      "text/plain": [
       "Na-Nb-O phase diagram\n",
       "18 stable phases: \n",
       "Na, NaNbO3, O2, Nb12O29, NaO2, NbO, Na2O2, Na2O, Na3NbO4, NaNb10O18, NaNbO2, Na5NbO5, NbO2, Nb2O5, NaNb3O8, NaNb13O33, Nb, Na2Nb3O6"
      ]
     },
     "execution_count": 6,
     "metadata": {},
     "output_type": "execute_result"
    }
   ],
   "source": [
    "get_object_from_json(PhaseDiagram,'./data/PD_Na-Nb-O.json')"
   ]
  }
 ],
 "metadata": {
  "kernelspec": {
   "display_name": "Python 3",
   "language": "python",
   "name": "python3"
  },
  "language_info": {
   "codemirror_mode": {
    "name": "ipython",
    "version": 3
   },
   "file_extension": ".py",
   "mimetype": "text/x-python",
   "name": "python",
   "nbconvert_exporter": "python",
   "pygments_lexer": "ipython3",
   "version": "3.11.2"
  }
 },
 "nbformat": 4,
 "nbformat_minor": 4
}
