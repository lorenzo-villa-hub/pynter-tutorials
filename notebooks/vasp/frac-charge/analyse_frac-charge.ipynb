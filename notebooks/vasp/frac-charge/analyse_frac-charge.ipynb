{
 "cells": [
  {
   "cell_type": "markdown",
   "metadata": {},
   "source": [
    "# Analyse behaviour of fractional charge"
   ]
  },
  {
   "cell_type": "markdown",
   "metadata": {},
   "source": [
    "We are going to plot the behaviour of the energy with respect to fractional charge, confronting it with the ideal linear. The data is collected using the Dataset class. The analysis is performed with the `DatasetAnalysis` class in the `vasp.analysis` module."
   ]
  },
  {
   "cell_type": "code",
   "execution_count": 1,
   "metadata": {},
   "outputs": [
    {
     "data": {
      "text/html": [
       "<div>\n",
       "<style scoped>\n",
       "    .dataframe tbody tr th:only-of-type {\n",
       "        vertical-align: middle;\n",
       "    }\n",
       "\n",
       "    .dataframe tbody tr th {\n",
       "        vertical-align: top;\n",
       "    }\n",
       "\n",
       "    .dataframe thead th {\n",
       "        text-align: right;\n",
       "    }\n",
       "</style>\n",
       "<table border=\"1\" class=\"dataframe\">\n",
       "  <thead>\n",
       "    <tr style=\"text-align: right;\">\n",
       "      <th></th>\n",
       "      <th>formula</th>\n",
       "      <th>group</th>\n",
       "      <th>nodes</th>\n",
       "      <th>is_converged</th>\n",
       "      <th>charge</th>\n",
       "      <th>final_energy</th>\n",
       "    </tr>\n",
       "    <tr>\n",
       "      <th>job_name</th>\n",
       "      <th></th>\n",
       "      <th></th>\n",
       "      <th></th>\n",
       "      <th></th>\n",
       "      <th></th>\n",
       "      <th></th>\n",
       "    </tr>\n",
       "  </thead>\n",
       "  <tbody>\n",
       "    <tr>\n",
       "      <th>Si-test_frac-charge_q_0.0</th>\n",
       "      <td>Si2</td>\n",
       "      <td>q_0.0</td>\n",
       "      <td></td>\n",
       "      <td>True</td>\n",
       "      <td>0.0</td>\n",
       "      <td>-10.840906</td>\n",
       "    </tr>\n",
       "    <tr>\n",
       "      <th>Si-test_frac-charge_q_0.2</th>\n",
       "      <td>Si2</td>\n",
       "      <td>q_0.2</td>\n",
       "      <td></td>\n",
       "      <td>True</td>\n",
       "      <td>-0.2</td>\n",
       "      <td>-9.503846</td>\n",
       "    </tr>\n",
       "    <tr>\n",
       "      <th>Si-test_frac-charge_q_0.4</th>\n",
       "      <td>Si2</td>\n",
       "      <td>q_0.4</td>\n",
       "      <td></td>\n",
       "      <td>True</td>\n",
       "      <td>-0.4</td>\n",
       "      <td>-8.089130</td>\n",
       "    </tr>\n",
       "    <tr>\n",
       "      <th>Si-test_frac-charge_q_0.6</th>\n",
       "      <td>Si2</td>\n",
       "      <td>q_0.6</td>\n",
       "      <td></td>\n",
       "      <td>True</td>\n",
       "      <td>-0.6</td>\n",
       "      <td>-6.621488</td>\n",
       "    </tr>\n",
       "    <tr>\n",
       "      <th>Si-test_frac-charge_q_0.8</th>\n",
       "      <td>Si2</td>\n",
       "      <td>q_0.8</td>\n",
       "      <td></td>\n",
       "      <td>True</td>\n",
       "      <td>-0.8</td>\n",
       "      <td>-5.137153</td>\n",
       "    </tr>\n",
       "    <tr>\n",
       "      <th>Si-test_frac-charge_q_1.0</th>\n",
       "      <td>Si2</td>\n",
       "      <td>q_1.0</td>\n",
       "      <td></td>\n",
       "      <td>True</td>\n",
       "      <td>-1.0</td>\n",
       "      <td>-3.636554</td>\n",
       "    </tr>\n",
       "  </tbody>\n",
       "</table>\n",
       "</div>"
      ],
      "text/plain": [
       "                          formula  group nodes  is_converged  charge  \\\n",
       "job_name                                                               \n",
       "Si-test_frac-charge_q_0.0     Si2  q_0.0                True     0.0   \n",
       "Si-test_frac-charge_q_0.2     Si2  q_0.2                True    -0.2   \n",
       "Si-test_frac-charge_q_0.4     Si2  q_0.4                True    -0.4   \n",
       "Si-test_frac-charge_q_0.6     Si2  q_0.6                True    -0.6   \n",
       "Si-test_frac-charge_q_0.8     Si2  q_0.8                True    -0.8   \n",
       "Si-test_frac-charge_q_1.0     Si2  q_1.0                True    -1.0   \n",
       "\n",
       "                           final_energy  \n",
       "job_name                                 \n",
       "Si-test_frac-charge_q_0.0    -10.840906  \n",
       "Si-test_frac-charge_q_0.2     -9.503846  \n",
       "Si-test_frac-charge_q_0.4     -8.089130  \n",
       "Si-test_frac-charge_q_0.6     -6.621488  \n",
       "Si-test_frac-charge_q_0.8     -5.137153  \n",
       "Si-test_frac-charge_q_1.0     -3.636554  "
      ]
     },
     "execution_count": 1,
     "metadata": {},
     "output_type": "execute_result"
    }
   ],
   "source": [
    "from pynter.data.datasets import Dataset\n",
    "from pynter.vasp.analysis import DatasetAnalysis\n",
    "import os\n",
    "homedir = os.getenv('HOME')\n",
    "\n",
    "path = os.path.join(homedir,'tutorials','frac-charge-Si')\n",
    "# first we import the data\n",
    "ds = Dataset.from_directory(path,sort_by_name=True)\n",
    "ds.jobs_table(properties_to_display=['charge','final_energy'])"
   ]
  },
  {
   "cell_type": "code",
   "execution_count": 2,
   "metadata": {},
   "outputs": [
    {
     "data": {
      "image/png": "[encoded data removed]",
      "text/plain": [
       "<Figure size 576x432 with 1 Axes>"
      ]
     },
     "metadata": {
      "needs_background": "light"
     },
     "output_type": "display_data"
    }
   ],
   "source": [
    "# Now let's analyse the dataset\n",
    "dataset_analysis = DatasetAnalysis(ds.jobs)\n",
    "dataset_analysis.plot_fractional_charge();"
   ]
  }
 ],
 "metadata": {
  "kernelspec": {
   "display_name": "Python 3",
   "language": "python",
   "name": "python3"
  },
  "language_info": {
   "codemirror_mode": {
    "name": "ipython",
    "version": 3
   },
   "file_extension": ".py",
   "mimetype": "text/x-python",
   "name": "python",
   "nbconvert_exporter": "python",
   "pygments_lexer": "ipython3",
   "version": "3.7.3"
  }
 },
 "nbformat": 4,
 "nbformat_minor": 4
}
