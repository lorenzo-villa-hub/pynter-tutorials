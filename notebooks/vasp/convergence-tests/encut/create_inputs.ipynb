{
 "cells": [
  {
   "cell_type": "code",
   "execution_count": 1,
   "metadata": {},
   "outputs": [],
   "source": [
    "from pynter.data.jobs import VaspJob\n",
    "from pynter.vasp.schemes import Schemes\n",
    "\n",
    "j = VaspJob.from_directory('../1-PBE-relax')"
   ]
  },
  {
   "cell_type": "code",
   "execution_count": 2,
   "metadata": {},
   "outputs": [],
   "source": [
    "structure = j.final_structure()\n",
    "incar = j.incar\n",
    "kpoints = j.kpoints\n",
    "potcar = j.potcar\n",
    "job_settings = j.job_settings\n",
    "name = 'AN_pure'\n",
    "incar['NSW'] = 0\n",
    "job_settings['add_automation'] = None"
   ]
  },
  {
   "cell_type": "code",
   "execution_count": 3,
   "metadata": {},
   "outputs": [],
   "source": [
    "schemes = Schemes(structure=structure,incar_settings=incar,kpoints=kpoints,\n",
    "                  potcar=potcar,job_settings=job_settings,name=name)"
   ]
  },
  {
   "cell_type": "code",
   "execution_count": 4,
   "metadata": {},
   "outputs": [],
   "source": [
    "from pynter.data.datasets import Dataset\n",
    "\n",
    "jobs = schemes.convergence_encut()"
   ]
  },
  {
   "cell_type": "code",
   "execution_count": 5,
   "metadata": {},
   "outputs": [],
   "source": [
    "ds = Dataset(jobs)"
   ]
  },
  {
   "cell_type": "code",
   "execution_count": 6,
   "metadata": {},
   "outputs": [
    {
     "data": {
      "text/plain": [
       "                       formula      group nodes is_converged\n",
       "job_name                                                    \n",
       "AN_pure_cutoff300  Nb8 Ag8 O24  cutoff300               None\n",
       "AN_pure_cutoff400  Nb8 Ag8 O24  cutoff400               None\n",
       "AN_pure_cutoff500  Nb8 Ag8 O24  cutoff500               None\n",
       "AN_pure_cutoff600  Nb8 Ag8 O24  cutoff600               None\n",
       "AN_pure_cutoff700  Nb8 Ag8 O24  cutoff700               None"
      ]
     },
     "execution_count": 6,
     "metadata": {},
     "output_type": "execute_result"
    }
   ],
   "source": [
    "ds"
   ]
  },
  {
   "cell_type": "code",
   "execution_count": 7,
   "metadata": {},
   "outputs": [],
   "source": [
    "ds.write_jobs_input()"
   ]
  },
  {
   "cell_type": "code",
   "execution_count": 8,
   "metadata": {},
   "outputs": [
    {
     "name": "stdout",
     "output_type": "stream",
     "text": [
      "sending incremental file list\n",
      "./\n",
      "create_inputs.ipynb\n",
      "cutoff300/INCAR\n",
      "cutoff300/KPOINTS\n",
      "cutoff300/POSCAR\n",
      "cutoff300/POTCAR\n",
      "cutoff300/job.sh\n",
      "cutoff400/INCAR\n",
      "cutoff400/KPOINTS\n",
      "cutoff400/POSCAR\n",
      "cutoff400/POTCAR\n",
      "cutoff400/job.sh\n",
      "cutoff500/INCAR\n",
      "cutoff500/KPOINTS\n",
      "cutoff500/POSCAR\n",
      "cutoff500/POTCAR\n",
      "cutoff500/job.sh\n",
      "cutoff600/INCAR\n",
      "cutoff600/KPOINTS\n",
      "cutoff600/POSCAR\n",
      "cutoff600/POTCAR\n",
      "cutoff600/job.sh\n",
      "cutoff700/INCAR\n",
      "cutoff700/KPOINTS\n",
      "cutoff700/POSCAR\n",
      "cutoff700/POTCAR\n",
      "cutoff700/job.sh\n",
      "\n",
      "sent 4.10K bytes  received 25.60K bytes  11.88K bytes/sec\n",
      "total size is 3.43M  speedup is 115.55\n",
      "\n"
     ]
    }
   ],
   "source": [
    "ds.sync_dataset_to_hpc()"
   ]
  },
  {
   "cell_type": "code",
   "execution_count": 10,
   "metadata": {},
   "outputs": [
    {
     "name": "stdout",
     "output_type": "stream",
     "text": [
      "Submitted batch job 15535366\n",
      "\u001b[1;37m[I]\u001b[0m Selected project: project01136\n",
      "\u001b[1;37m[I]\u001b[0m Possible CPU types    = Haswell(\u001b[1;32mavx2\u001b[0m)\n",
      "\n",
      "Submitted batch job 15535367\n",
      "\u001b[1;37m[I]\u001b[0m Selected project: project01136\n",
      "\u001b[1;37m[I]\u001b[0m Possible CPU types    = Haswell(\u001b[1;32mavx2\u001b[0m)\n",
      "\n",
      "Submitted batch job 15535368\n",
      "\u001b[1;37m[I]\u001b[0m Selected project: project01136\n",
      "\u001b[1;37m[I]\u001b[0m Possible CPU types    = Haswell(\u001b[1;32mavx2\u001b[0m)\n",
      "\n",
      "Submitted batch job 15535369\n",
      "\u001b[1;37m[I]\u001b[0m Selected project: project01136\n",
      "\u001b[1;37m[I]\u001b[0m Possible CPU types    = Haswell(\u001b[1;32mavx2\u001b[0m)\n",
      "\n",
      "Submitted batch job 15535370\n",
      "\u001b[1;37m[I]\u001b[0m Selected project: project01136\n",
      "\u001b[1;37m[I]\u001b[0m Possible CPU types    = Haswell(\u001b[1;32mavx2\u001b[0m)\n",
      "\n"
     ]
    }
   ],
   "source": [
    "# for j in ds.jobs:\n",
    "#     j.run_job(sync=False)"
   ]
  },
  {
   "cell_type": "code",
   "execution_count": 11,
   "metadata": {},
   "outputs": [
    {
     "name": "stdout",
     "output_type": "stream",
     "text": [
      "\n",
      "     JOBID PARTITION                                     NAME     USER ST       TIME NODES NODELIST(REASON)\n",
      "  15535366     deflt                        AN_pure_cutoff300 lv51dypu PD       0:00     4 (Nodes required for job are DOWN, DRAINED or reserved for jobs in higher priority partitions)\n",
      "  15535367     deflt                        AN_pure_cutoff400 lv51dypu PD       0:00     4 (Nodes required for job are DOWN, DRAINED or reserved for jobs in higher priority partitions)\n",
      "  15535368     deflt                        AN_pure_cutoff500 lv51dypu PD       0:00     4 (Nodes required for job are DOWN, DRAINED or reserved for jobs in higher priority partitions)\n",
      "  15535369     deflt                        AN_pure_cutoff600 lv51dypu PD       0:00     4 (Nodes required for job are DOWN, DRAINED or reserved for jobs in higher priority partitions)\n",
      "  15535370     deflt                        AN_pure_cutoff700 lv51dypu PD       0:00     4 (Nodes required for job are DOWN, DRAINED or reserved for jobs in higher priority partitions)\n",
      "  15531850      long                     AN_Mn_on_Nb_q2_HSE_1 lv51dypu  R   19:09:32     8 hpb[0149-0150,0153-0158]\n",
      "\n"
     ]
    }
   ],
   "source": [
    "ds.queue()"
   ]
  }
 ],
 "metadata": {
  "kernelspec": {
   "display_name": "Python 3",
   "language": "python",
   "name": "python3"
  },
  "language_info": {
   "codemirror_mode": {
    "name": "ipython",
    "version": 3
   },
   "file_extension": ".py",
   "mimetype": "text/x-python",
   "name": "python",
   "nbconvert_exporter": "python",
   "pygments_lexer": "ipython3",
   "version": "3.7.3"
  }
 },
 "nbformat": 4,
 "nbformat_minor": 4
}
