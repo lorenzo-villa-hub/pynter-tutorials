{
 "cells": [
  {
   "cell_type": "markdown",
   "metadata": {},
   "source": [
    "# Create calculation schemes for VASP\n",
    "\n",
    "Create defined VASP calculation schemes using the `Schemes` class in the `vasp.schemes` module. This class contains pre-defined schemes to perform different types of calculations. The starting point is a `Structure` object and `Incar` and `Kpoints` objects from `pymatgen`. These will define the basis of inputs for the scheme, where only the relavant INCAR tags and KPOINTS (where needed) will be changed according to the different scheme steps. Only the `Structure` argument is needed, if all other arguments are missing the objects will be constructed according to the `DefaultInputs` class."
   ]
  },
  {
   "cell_type": "markdown",
   "metadata": {},
   "source": [
    "### Define structure\n",
    "\n",
    "We will retrieve the structure of Silicon from the Materials Project database using `pymatgen`."
   ]
  },
  {
   "cell_type": "code",
   "execution_count": 1,
   "metadata": {},
   "outputs": [
    {
     "name": "stdout",
     "output_type": "stream",
     "text": [
      "Full Formula (Si2)\n",
      "Reduced Formula: Si\n",
      "abc   :   3.839943   3.839943   3.839943\n",
      "angles:  60.000000  60.000000  60.000000\n",
      "Sites (2)\n",
      "  #  SP        a      b      c\n",
      "---  ----  -----  -----  -----\n",
      "  0  Si    0.875  0.875  0.875\n",
      "  1  Si    0.125  0.125  0.125\n"
     ]
    }
   ],
   "source": [
    "from pynter.tools.materials_project import MPDatabase\n",
    "\n",
    "structure = MPDatabase('mp-149').get_structure()\n",
    "print(structure)"
   ]
  },
  {
   "cell_type": "markdown",
   "metadata": {},
   "source": [
    "### Define set of inputs \n",
    "\n",
    "now we need to define a set of common inputs for the calculations. In this case we explicitely use the `DefaultInputs` class to show how it works, but if the default inputs are needed one can just omit the arguments when defining the `Schemes` class. "
   ]
  },
  {
   "cell_type": "code",
   "execution_count": 4,
   "metadata": {
    "scrolled": true
   },
   "outputs": [
    {
     "name": "stdout",
     "output_type": "stream",
     "text": [
      "{'IBRION': 2, 'NSW': 0, 'ISIF': 2, 'EDIFFG': -0.05, 'ISPIN': 1, 'LWAVE': '.TRUE.', 'LCHARG': '.TRUE.', 'LORBIT': 10, 'LVTOT': '.TRUE.', 'ENCUT': 550, 'EDIFF': 1e-06, 'ISMEAR': 0, 'SIGMA': 0.05, 'NELM': 200, 'ALGO': 'Normal', 'AMIX': 0.2, 'LREAL': '.FALSE.', 'SYSTEM': 'Si', '#### Default PBE: system': 'Si', 'ISYM': 2}\n",
      "pymatgen 4.7.6+ generated KPOINTS with grid density = 1000 / atom\n",
      "0\n",
      "Gamma\n",
      "8 8 8\n",
      "\n"
     ]
    }
   ],
   "source": [
    "from pynter.vasp.default_inputs import DefaultInputs\n",
    "from pynter.vasp.schemes import Schemes\n",
    "\n",
    "di = DefaultInputs(structure)\n",
    "incar_settings = di.get_incar_default(xc='PBE')\n",
    "kpoints = di.get_kpoints_default(kppa=1000)\n",
    "# Get Pymatgen Potcar object. The PMG_VASP_PSP directory has to be defined in .pmgrc.yaml file as required by Pymatgen.\n",
    "potcar = di.get_potcar(potcar_functional='PBE')\n",
    "\n",
    "print(incar_settings)\n",
    "print(kpoints)"
   ]
  },
  {
   "cell_type": "markdown",
   "metadata": {},
   "source": [
    "### Create Schemes object\n",
    "\n",
    "Now we can create the `Schemes` object from the previously defined inputs. The argument `job_settings` is None by default, which means that the default settings for the job script are retrieved from the `config.yml` file when the input files are written."
   ]
  },
  {
   "cell_type": "code",
   "execution_count": 11,
   "metadata": {},
   "outputs": [],
   "source": [
    "# define path\n",
    "import os\n",
    "homedir = os.getenv(\"HOME\")\n",
    "path = os.path.join(homedir,'pynter-tutorials-files','Si-BS')"
   ]
  },
  {
   "cell_type": "code",
   "execution_count": 12,
   "metadata": {},
   "outputs": [],
   "source": [
    "cs = Schemes(path,structure=structure,incar_settings=incar_settings,kpoints=kpoints,\n",
    "             potcar=potcar,job_settings=None,name='Si')"
   ]
  },
  {
   "cell_type": "markdown",
   "metadata": {},
   "source": [
    "### Create list of Job objects\n",
    "\n",
    "Now we can use on of the methods of this class to select the desired scheme and create a list of `VaspJob` objects of the `pymatgen.data.jobs` module. As an example we pick the `pbe_electronic_structure` scheme, which is made by a first electronic minimization step, followed by a DOS calculation with the number of kpoints tripled by default in every direction, and a non-sc BS calculation, with k-path build according to the defaults paths in Pymatgen."
   ]
  },
  {
   "cell_type": "code",
   "execution_count": 13,
   "metadata": {},
   "outputs": [
    {
     "data": {
      "text/plain": [
       "[Job \"Si_PBE-el-str_1\", Job \"Si_PBE-el-str_2\", Job \"Si_PBE-el-str_3\"]"
      ]
     },
     "execution_count": 13,
     "metadata": {},
     "output_type": "execute_result"
    }
   ],
   "source": [
    "jobs = cs.pbe_electronic_structure();\n",
    "jobs"
   ]
  },
  {
   "cell_type": "code",
   "execution_count": 14,
   "metadata": {
    "scrolled": true
   },
   "outputs": [
    {
     "name": "stdout",
     "output_type": "stream",
     "text": [
      "Si_PBE-el-str_1:\n",
      "\n",
      "#### Default PBE: system = Si\n",
      "ALGO = Normal\n",
      "AMIX = 0.2\n",
      "EDIFF = 1e-06\n",
      "EDIFFG = -0.05\n",
      "ENCUT = 550\n",
      "IBRION = 2\n",
      "ISIF = 3\n",
      "ISMEAR = 0\n",
      "ISPIN = 1\n",
      "ISYM = 2\n",
      "LCHARG = .TRUE.\n",
      "LORBIT = 10\n",
      "LREAL = .FALSE.\n",
      "LVTOT = .TRUE.\n",
      "LWAVE = .TRUE.\n",
      "NELM = 200\n",
      "NSW = 100\n",
      "SIGMA = 0.05\n",
      "SYSTEM = Si\n",
      "\n",
      "pymatgen 4.7.6+ generated KPOINTS with grid density = 1000 / atom\n",
      "0\n",
      "Gamma\n",
      "8 8 8\n",
      "\n",
      "{'name': 'Si_PBE-el-str_1'}\n",
      "\n",
      "Si_PBE-el-str_2:\n",
      "\n",
      "#### Default PBE: system = Si\n",
      "ALGO = Normal\n",
      "AMIX = 0.2\n",
      "EDIFF = 1e-06\n",
      "EDIFFG = -0.05\n",
      "ENCUT = 550\n",
      "IBRION = 2\n",
      "ICHARG = 1\n",
      "ISIF = 3\n",
      "ISMEAR = -5\n",
      "ISPIN = 1\n",
      "ISTART = 1\n",
      "ISYM = 2\n",
      "LCHARG = .TRUE.\n",
      "LORBIT = 10\n",
      "LREAL = .FALSE.\n",
      "LVTOT = .TRUE.\n",
      "LWAVE = .TRUE.\n",
      "NEDOS = 2000\n",
      "NELM = 200\n",
      "NSW = 0\n",
      "SIGMA = 0.05\n",
      "SYSTEM = Si\n",
      "\n",
      "Default gamma\n",
      "0\n",
      "Gamma\n",
      "24 24 24\n",
      "\n",
      "{'name': 'Si_PBE-el-str_2'}\n",
      "\n",
      "Si_PBE-el-str_3:\n",
      "\n",
      "#### Default PBE: system = Si\n",
      "ALGO = Normal\n",
      "AMIX = 0.2\n",
      "EDIFF = 1e-06\n",
      "EDIFFG = -0.05\n",
      "ENCUT = 550\n",
      "IBRION = 2\n",
      "ICHARG = 11\n",
      "ISIF = 3\n",
      "ISMEAR = 0\n",
      "ISPIN = 1\n",
      "ISTART = 1\n",
      "ISYM = 2\n",
      "LCHARG = .TRUE.\n",
      "LORBIT = 11\n",
      "LREAL = .FALSE.\n",
      "LVTOT = .TRUE.\n",
      "LWAVE = .TRUE.\n",
      "NEDOS = 2000\n",
      "NELM = 200\n",
      "NSW = 0\n",
      "SIGMA = 0.05\n",
      "SYSTEM = Si\n",
      "\n",
      "Line_mode KPOINTS file\n",
      "10\n",
      "Line_mode\n",
      "Reciprocal\n",
      "0.0 0.0 0.0 ! \\Gamma\n",
      "0.5 0.0 0.5 ! X\n",
      "\n",
      "0.5 0.0 0.5 ! X\n",
      "0.5 0.25 0.75 ! W\n",
      "\n",
      "0.5 0.25 0.75 ! W\n",
      "0.375 0.375 0.75 ! K\n",
      "\n",
      "0.375 0.375 0.75 ! K\n",
      "0.0 0.0 0.0 ! \\Gamma\n",
      "\n",
      "0.0 0.0 0.0 ! \\Gamma\n",
      "0.5 0.5 0.5 ! L\n",
      "\n",
      "0.5 0.5 0.5 ! L\n",
      "0.625 0.25 0.625 ! U\n",
      "\n",
      "0.625 0.25 0.625 ! U\n",
      "0.5 0.25 0.75 ! W\n",
      "\n",
      "0.5 0.25 0.75 ! W\n",
      "0.5 0.5 0.5 ! L\n",
      "\n",
      "0.5 0.5 0.5 ! L\n",
      "0.375 0.375 0.75 ! K\n",
      "\n",
      "0.625 0.25 0.625 ! U\n",
      "0.5 0.0 0.5 ! X\n",
      "\n",
      "\n",
      "{'name': 'Si_PBE-el-str_3'}\n",
      "\n"
     ]
    }
   ],
   "source": [
    "# Check input params\n",
    "for job in jobs:\n",
    "    print(job.name+':\\n')\n",
    "    print(job.incar)\n",
    "    print(job.kpoints)\n",
    "    print(job.job_settings)\n",
    "    print('')"
   ]
  },
  {
   "cell_type": "markdown",
   "metadata": {},
   "source": [
    "### Write files\n",
    "\n",
    "Now we can create input files with the `write_input` method in the `VaspJob` class. Alternatively we can create a `Dataset` from the `data.datasets` to organize the jobs in a group."
   ]
  },
  {
   "cell_type": "code",
   "execution_count": 15,
   "metadata": {},
   "outputs": [
    {
     "data": {
      "text/plain": [
       "                formula        group nodes is_converged\n",
       "job_name                                               \n",
       "Si_PBE-el-str_1     Si2  1-PBE-relax               None\n",
       "Si_PBE-el-str_2     Si2    2-PBE-DOS               None\n",
       "Si_PBE-el-str_3     Si2     3-PBE-BS               None"
      ]
     },
     "execution_count": 15,
     "metadata": {},
     "output_type": "execute_result"
    }
   ],
   "source": [
    "from pynter.data.datasets import Dataset\n",
    "\n",
    "ds = Dataset(jobs)\n",
    "ds"
   ]
  },
  {
   "cell_type": "code",
   "execution_count": 16,
   "metadata": {},
   "outputs": [],
   "source": [
    "ds.write_jobs_input()"
   ]
  }
 ],
 "metadata": {
  "kernelspec": {
   "display_name": "Python 3",
   "language": "python",
   "name": "python3"
  },
  "language_info": {
   "codemirror_mode": {
    "name": "ipython",
    "version": 3
   },
   "file_extension": ".py",
   "mimetype": "text/x-python",
   "name": "python",
   "nbconvert_exporter": "python",
   "pygments_lexer": "ipython3",
   "version": "3.7.3"
  }
 },
 "nbformat": 4,
 "nbformat_minor": 4
}
