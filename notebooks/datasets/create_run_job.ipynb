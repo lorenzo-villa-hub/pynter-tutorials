{
 "cells": [
  {
   "attachments": {},
   "cell_type": "markdown",
   "metadata": {},
   "source": [
    "# Create a Job and run it\n",
    "\n",
    "We want to create a Job from scratch and run it on the HPC. \\\n",
    "To set up the connection to the HPC you have to set up the `config.yml`file in the `pynter` directory.\n",
    "Example:\n",
    "```\n",
    "HPC:\n",
    "  hostname: \"<path>\"\n",
    "  localdir: \"<path>\"\n",
    "  workdir: \"<path>\"\n",
    "```\n",
    "`localdir` and `workdir` are respectively the local directory and the work directory on the HPC were the data is stored. These two folders will be synced every time a job is run or output is retrieved. Change the entries based on your needs, in order for the connection to the host to work you need to set up a passwordless `ssh` connection."
   ]
  },
  {
   "cell_type": "code",
   "execution_count": 1,
   "metadata": {},
   "outputs": [],
   "source": [
    "# import packages\n",
    "from pynter.data.jobs import VaspJob\n",
    "from pynter.tools.materials_project import MPDatabase\n",
    "from pynter.vasp.schemes import DefaultInputs"
   ]
  },
  {
   "cell_type": "code",
   "execution_count": 2,
   "metadata": {},
   "outputs": [
    {
     "name": "stdout",
     "output_type": "stream",
     "text": [
      "INCAR:\n",
      " {'IBRION': 2, 'NSW': 0, 'ISIF': 2, 'EDIFFG': -0.05, 'ISPIN': 1, 'LWAVE': '.TRUE.', 'LCHARG': '.TRUE.', 'LORBIT': 10, 'ENCUT': 500, 'EDIFF': 1e-06, 'ISMEAR': 0, 'SIGMA': 0.05, 'ALGO': 'Normal', 'AMIX': 0.2, 'LREAL': '.FALSE.', '#### Default PBE: system': 'Si', 'ISYM': 2}\n",
      "KPOINTS:\n",
      " pymatgen 4.7.6+ generated KPOINTS with grid density = 1000 / atom\n",
      "0\n",
      "Gamma\n",
      "8 8 8\n",
      "\n",
      "POSCAR:\n",
      " Si2\n",
      "1.0\n",
      "3.325489 0.000000 1.919972\n",
      "1.108496 3.135301 1.919972\n",
      "0.000000 0.000000 3.839943\n",
      "Si\n",
      "2\n",
      "direct\n",
      "0.875000 0.875000 0.875000 Si\n",
      "0.125000 0.125000 0.125000 Si\n",
      "\n"
     ]
    }
   ],
   "source": [
    "import os\n",
    "homedir = os.getenv('HOME')\n",
    "# define job path\n",
    "job_path = os.path.join(homedir,'tests/project-test/tutorials/Si-PBE-SCF')\n",
    "\n",
    "# get structure of FCC Si from Materials Project\n",
    "structure = MPDatabase(mp_id='mp-149').get_structure()\n",
    "\n",
    "# Adapt job settings for a smaller job\n",
    "job_settings = {'nodes':1,'timelimit':'00:05:00'}\n",
    "\n",
    "# set job inputs using DefaultInputs class\n",
    "inputs = DefaultInputs(structure).get_vasp_input()\n",
    "print('INCAR:\\n',inputs['INCAR'])\n",
    "print('KPOINTS:\\n',inputs['KPOINTS'])\n",
    "print('POSCAR:\\n',inputs['POSCAR'])"
   ]
  },
  {
   "cell_type": "code",
   "execution_count": 3,
   "metadata": {},
   "outputs": [
    {
     "name": "stdout",
     "output_type": "stream",
     "text": [
      "sending incremental file list\n",
      "\n",
      "sent 159 bytes  received 19 bytes  71.20 bytes/sec\n",
      "total size is 0  speedup is 0.00\n",
      "\n",
      "sending incremental file list\n",
      "\n",
      "sent 66 bytes  received 12 bytes  52.00 bytes/sec\n",
      "total size is 0  speedup is 0.00\n",
      "\n",
      "sending incremental file list\n",
      "\n",
      "sent 1.26K bytes  received 20 bytes  512.80 bytes/sec\n",
      "total size is 21.39M  speedup is 16,688.02\n",
      "\n",
      "sending incremental file list\n",
      "\n",
      "sent 1.58K bytes  received 20 bytes  638.80 bytes/sec\n",
      "total size is 105.09M  speedup is 65,805.87\n",
      "\n",
      "sending incremental file list\n",
      "\n",
      "sent 71 bytes  received 12 bytes  15.09 bytes/sec\n",
      "total size is 987  speedup is 11.89\n",
      "\n",
      "sending incremental file list\n",
      "\n",
      "sent 64 bytes  received 12 bytes  30.40 bytes/sec\n",
      "total size is 499  speedup is 6.57\n",
      "\n",
      "sending incremental file list\n",
      "tutorials/\n",
      "tutorials/Si-PBE-SCF/\n",
      "tutorials/Si-PBE-SCF/INCAR\n",
      "tutorials/Si-PBE-SCF/KPOINTS\n",
      "tutorials/Si-PBE-SCF/POSCAR\n",
      "tutorials/Si-PBE-SCF/POTCAR\n",
      "tutorials/Si-PBE-SCF/job.sh\n",
      "\n",
      "sent 72.59K bytes  received 123 bytes  48.48K bytes/sec\n",
      "total size is 196.72K  speedup is 2.71\n",
      "\n",
      "sending incremental file list\n",
      "\n",
      "sent 2.46K bytes  received 37 bytes  998.00 bytes/sec\n",
      "total size is 661.77M  speedup is 265,237.95\n",
      "\n",
      "Submitted batch job 14672110\n",
      "\u001b[1;37m[I]\u001b[0m Selected project: project01136\n",
      "\u001b[1;37m[I]\u001b[0m Possible CPU types    = Haswell(\u001b[1;32mavx2\u001b[0m)\n",
      "\u001b[1;37m[I]\u001b[0m Possible specials     = short\n",
      "\n"
     ]
    },
    {
     "data": {
      "text/plain": []
     },
     "execution_count": 3,
     "metadata": {},
     "output_type": "execute_result"
    }
   ],
   "source": [
    "#Now we can create the job\n",
    "job = VaspJob(path=job_path,inputs=inputs,job_settings=job_settings,name='Si-PBE-SCF')\n",
    "\n",
    "# run job on the HPC\n",
    "job.run_job()"
   ]
  },
  {
   "cell_type": "code",
   "execution_count": 6,
   "metadata": {},
   "outputs": [
    {
     "data": {
      "text/plain": [
       "'14672110'"
      ]
     },
     "execution_count": 6,
     "metadata": {},
     "output_type": "execute_result"
    }
   ],
   "source": [
    "# get job ID\n",
    "job.job_id()"
   ]
  },
  {
   "cell_type": "code",
   "execution_count": 7,
   "metadata": {},
   "outputs": [
    {
     "data": {
      "text/plain": [
       "'PENDING'"
      ]
     },
     "execution_count": 7,
     "metadata": {},
     "output_type": "execute_result"
    }
   ],
   "source": [
    "# check status in queue\n",
    "job.status()"
   ]
  },
  {
   "cell_type": "code",
   "execution_count": null,
   "metadata": {},
   "outputs": [],
   "source": [
    "# example: cancel job\n",
    "job.cancel_job()"
   ]
  },
  {
   "cell_type": "code",
   "execution_count": 13,
   "metadata": {},
   "outputs": [
    {
     "name": "stdout",
     "output_type": "stream",
     "text": [
      "sending incremental file list\n",
      "\n",
      "sent 159 bytes  received 19 bytes  32.36 bytes/sec\n",
      "total size is 0  speedup is 0.00\n",
      "\n",
      "sending incremental file list\n",
      "\n",
      "sent 66 bytes  received 12 bytes  31.20 bytes/sec\n",
      "total size is 0  speedup is 0.00\n",
      "\n",
      "sending incremental file list\n",
      "\n",
      "sent 1.26K bytes  received 20 bytes  512.80 bytes/sec\n",
      "total size is 21.39M  speedup is 16,688.02\n",
      "\n",
      "sending incremental file list\n",
      "\n",
      "sent 1.58K bytes  received 20 bytes  1.06K bytes/sec\n",
      "total size is 105.09M  speedup is 65,805.87\n",
      "\n",
      "sending incremental file list\n",
      "\n",
      "sent 71 bytes  received 12 bytes  33.20 bytes/sec\n",
      "total size is 987  speedup is 11.89\n",
      "\n",
      "sending incremental file list\n",
      "\n",
      "sent 64 bytes  received 12 bytes  30.40 bytes/sec\n",
      "total size is 499  speedup is 6.57\n",
      "\n",
      "sending incremental file list\n",
      "tutorials/Si-PBE-SCF/\n",
      "tutorials/Si-PBE-SCF/INCAR\n",
      "tutorials/Si-PBE-SCF/KPOINTS\n",
      "tutorials/Si-PBE-SCF/POSCAR\n",
      "tutorials/Si-PBE-SCF/POTCAR\n",
      "tutorials/Si-PBE-SCF/job.sh\n",
      "\n",
      "sent 393 bytes  received 1.82K bytes  886.80 bytes/sec\n",
      "total size is 196.72K  speedup is 88.73\n",
      "\n",
      "sending incremental file list\n",
      "\n",
      "sent 2.46K bytes  received 37 bytes  998.00 bytes/sec\n",
      "total size is 661.77M  speedup is 265,237.95\n",
      "\n",
      "Submitted batch job 14672175\n",
      "\u001b[1;37m[I]\u001b[0m Selected project: project01136\n",
      "\u001b[1;37m[I]\u001b[0m Possible CPU types    = Haswell(\u001b[1;32mavx2\u001b[0m)\n",
      "\u001b[1;37m[I]\u001b[0m Possible specials     = short\n",
      "\n"
     ]
    },
    {
     "data": {
      "text/plain": []
     },
     "execution_count": 13,
     "metadata": {},
     "output_type": "execute_result"
    }
   ],
   "source": [
    "# Now let's let it run\n",
    "job.run_job()"
   ]
  }
 ],
 "metadata": {
  "kernelspec": {
   "display_name": "Python 3",
   "language": "python",
   "name": "python3"
  },
  "language_info": {
   "codemirror_mode": {
    "name": "ipython",
    "version": 3
   },
   "file_extension": ".py",
   "mimetype": "text/x-python",
   "name": "python",
   "nbconvert_exporter": "python",
   "pygments_lexer": "ipython3",
   "version": "3.7.3"
  }
 },
 "nbformat": 4,
 "nbformat_minor": 4
}
