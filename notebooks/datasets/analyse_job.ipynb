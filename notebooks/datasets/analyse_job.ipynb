{
 "cells": [
  {
   "attachments": {},
   "cell_type": "markdown",
   "metadata": {},
   "source": [
    "# Analyse Job\n",
    "\n",
    "Now let's extract the output of the job from the HPC and analyse it. \\\n",
    "Normally one could extract the output of the job directly from the same script where has created it without having to reinitialize the Job object. In this case we do it separately to show how to import an already completed Job to analyse it. In this example the data has not been synced yet from the HPC. Normally the `sync-hpc.py` script should run in the background, syncing the data periodically, therefore most of the time the syncronization step is not needed. Nonetheless this example shows how to do it if needed."
   ]
  },
  {
   "cell_type": "code",
   "execution_count": 1,
   "metadata": {},
   "outputs": [],
   "source": [
    "# import packages\n",
    "from pynter.data.jobs import VaspJob"
   ]
  },
  {
   "cell_type": "code",
   "execution_count": 5,
   "metadata": {},
   "outputs": [
    {
     "name": "stdout",
     "output_type": "stream",
     "text": [
      "Si-PBE-SCF \n",
      "\n",
      "receiving incremental file list\n",
      "\n",
      "sent 20 bytes  received 503 bytes  149.43 bytes/sec\n",
      "total size is 3.47M  speedup is 6,629.47\n",
      "\n"
     ]
    }
   ],
   "source": [
    "# define job path\n",
    "import os\n",
    "homedir = os.getenv('HOME')\n",
    "job_path = os.path.join(homedir,'tests/project-test/tutorials/Si-PBE-SCF')\n",
    "\n",
    "job = VaspJob.from_directory(job_path)\n",
    "print(job.name,'\\n')\n",
    "#print(job.inputs,'\\n')\n",
    "\n",
    "job.get_outputs(sync=True) # default sync=False, which means that the data is not synced before reading outputs"
   ]
  },
  {
   "cell_type": "code",
   "execution_count": 8,
   "metadata": {},
   "outputs": [
    {
     "data": {
      "text/plain": [
       "True"
      ]
     },
     "execution_count": 8,
     "metadata": {},
     "output_type": "execute_result"
    }
   ],
   "source": [
    "# check if job is converged\n",
    "job.is_converged"
   ]
  },
  {
   "cell_type": "code",
   "execution_count": 10,
   "metadata": {},
   "outputs": [
    {
     "data": {
      "text/plain": [
       "-10.81807645"
      ]
     },
     "execution_count": 10,
     "metadata": {},
     "output_type": "execute_result"
    }
   ],
   "source": [
    "# get total energy (eV)\n",
    "job.final_energy()"
   ]
  }
 ],
 "metadata": {
  "kernelspec": {
   "display_name": "Python 3",
   "language": "python",
   "name": "python3"
  },
  "language_info": {
   "codemirror_mode": {
    "name": "ipython",
    "version": 3
   },
   "file_extension": ".py",
   "mimetype": "text/x-python",
   "name": "python",
   "nbconvert_exporter": "python",
   "pygments_lexer": "ipython3",
   "version": "3.7.3"
  }
 },
 "nbformat": 4,
 "nbformat_minor": 4
}
