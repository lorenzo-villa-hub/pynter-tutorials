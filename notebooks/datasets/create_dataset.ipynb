{
 "cells": [
  {
   "cell_type": "markdown",
   "metadata": {},
   "source": [
    "# Create a Dataset from scratch and run it"
   ]
  },
  {
   "cell_type": "markdown",
   "metadata": {},
   "source": [
    "We want to create a project that contains all the jobs to calculate the Silicon band structure with PBE. To set up the jobs we will use the schemes in the `Schemes` class."
   ]
  },
  {
   "cell_type": "code",
   "execution_count": 1,
   "metadata": {},
   "outputs": [],
   "source": [
    "# import packages\n",
    "from pynter.data.datasets import Dataset\n",
    "from pynter.tools.materials_project import MPDatabase\n",
    "from pynter.vasp.schemes import Schemes"
   ]
  },
  {
   "cell_type": "code",
   "execution_count": null,
   "metadata": {},
   "outputs": [],
   "source": [
    "# define the project path - customize with your path\n",
    "import os\n",
    "homedir = os.getenv(\"HOME\")\n",
    "path = os.path.join(homedir,'pynter-tutorials-files/Si-BS-dataset')\n",
    "\n",
    "# get structure of FCC Si from Materials Project\n",
    "structure = MPDatabase(mp_id='mp-149').get_structure()\n",
    "\n",
    "# Adapt job settings for a smaller job\n",
    "job_settings = {'nodes':1,'timelimit':'00:30:00'}\n",
    "\n",
    "cs = Schemes(path=path,structure=structure,job_settings=job_settings,name='Si-BS')\n",
    "jobs = cs.pbe_electronic_structure()\n",
    "\n",
    "# create Dataset\n",
    "ds = Dataset(jobs)"
   ]
  },
  {
   "cell_type": "code",
   "execution_count": 4,
   "metadata": {},
   "outputs": [
    {
     "data": {
      "text/html": [
       "<div>\n",
       "<style scoped>\n",
       "    .dataframe tbody tr th:only-of-type {\n",
       "        vertical-align: middle;\n",
       "    }\n",
       "\n",
       "    .dataframe tbody tr th {\n",
       "        vertical-align: top;\n",
       "    }\n",
       "\n",
       "    .dataframe thead th {\n",
       "        text-align: right;\n",
       "    }\n",
       "</style>\n",
       "<table border=\"1\" class=\"dataframe\">\n",
       "  <thead>\n",
       "    <tr style=\"text-align: right;\">\n",
       "      <th></th>\n",
       "      <th>formula</th>\n",
       "      <th>group</th>\n",
       "      <th>nodes</th>\n",
       "      <th>is_converged</th>\n",
       "    </tr>\n",
       "    <tr>\n",
       "      <th>job_name</th>\n",
       "      <th></th>\n",
       "      <th></th>\n",
       "      <th></th>\n",
       "      <th></th>\n",
       "    </tr>\n",
       "  </thead>\n",
       "  <tbody>\n",
       "    <tr>\n",
       "      <th>Si-BS_PBE-el-str_1</th>\n",
       "      <td>Si2</td>\n",
       "      <td>1-PBE-relax</td>\n",
       "      <td></td>\n",
       "      <td>None</td>\n",
       "    </tr>\n",
       "    <tr>\n",
       "      <th>Si-BS_PBE-el-str_2</th>\n",
       "      <td>Si2</td>\n",
       "      <td>2-PBE-DOS</td>\n",
       "      <td></td>\n",
       "      <td>None</td>\n",
       "    </tr>\n",
       "    <tr>\n",
       "      <th>Si-BS_PBE-el-str_3</th>\n",
       "      <td>Si2</td>\n",
       "      <td>3-PBE-BS</td>\n",
       "      <td></td>\n",
       "      <td>None</td>\n",
       "    </tr>\n",
       "  </tbody>\n",
       "</table>\n",
       "</div>"
      ],
      "text/plain": [
       "                   formula        group nodes is_converged\n",
       "job_name                                                  \n",
       "Si-BS_PBE-el-str_1     Si2  1-PBE-relax               None\n",
       "Si-BS_PBE-el-str_2     Si2    2-PBE-DOS               None\n",
       "Si-BS_PBE-el-str_3     Si2     3-PBE-BS               None"
      ]
     },
     "execution_count": 4,
     "metadata": {},
     "output_type": "execute_result"
    }
   ],
   "source": [
    "# visualize job table\n",
    "ds.jobs_table()"
   ]
  },
  {
   "cell_type": "code",
   "execution_count": 6,
   "metadata": {},
   "outputs": [
    {
     "name": "stdout",
     "output_type": "stream",
     "text": [
      "Job \"Si-BS_PBE-el-str_1\" of group \"1-PBE-relax\"\n"
     ]
    }
   ],
   "source": [
    "# get first step job\n",
    "job_first_step = ds.select_jobs(groups=['1-PBE-relax'])\n",
    "print(job_first_step)"
   ]
  },
  {
   "cell_type": "code",
   "execution_count": 7,
   "metadata": {},
   "outputs": [
    {
     "data": {
      "text/plain": [
       "{'INCAR': {'IBRION': 2,\n",
       "  'NSW': 100,\n",
       "  'ISIF': 3,\n",
       "  'EDIFFG': -0.05,\n",
       "  'ISPIN': 1,\n",
       "  'LWAVE': '.TRUE.',\n",
       "  'LCHARG': '.TRUE.',\n",
       "  'LORBIT': 10,\n",
       "  'LVTOT': '.TRUE.',\n",
       "  'ENCUT': 550,\n",
       "  'EDIFF': 1e-06,\n",
       "  'ISMEAR': 0,\n",
       "  'SIGMA': 0.05,\n",
       "  'NELM': 200,\n",
       "  'ALGO': 'Normal',\n",
       "  'AMIX': 0.2,\n",
       "  'LREAL': '.FALSE.',\n",
       "  'SYSTEM': 'Si',\n",
       "  '#### Default PBE: system': 'Si',\n",
       "  'ISYM': 2},\n",
       " 'KPOINTS': pymatgen v2020.7.18 with grid density = 1000 / number of atoms\n",
       " 0\n",
       " Gamma\n",
       " 8 8 8,\n",
       " 'POSCAR': Si2\n",
       " 1.0\n",
       " 3.325489 0.000000 1.919972\n",
       " 1.108496 3.135301 1.919972\n",
       " 0.000000 0.000000 3.839943\n",
       " Si\n",
       " 2\n",
       " direct\n",
       " 0.875000 0.875000 0.875000 Si\n",
       " 0.125000 0.125000 0.125000 Si,\n",
       " 'POTCAR': [<pymatgen.io.vasp.inputs.PotcarSingle at 0x7f777b024c10>]}"
      ]
     },
     "execution_count": 7,
     "metadata": {},
     "output_type": "execute_result"
    }
   ],
   "source": [
    "# check job inputs\n",
    "job_first_step.inputs"
   ]
  },
  {
   "cell_type": "code",
   "execution_count": 6,
   "metadata": {},
   "outputs": [],
   "source": [
    "# write input to files\n",
    "ds.write_jobs_input()"
   ]
  },
  {
   "cell_type": "code",
   "execution_count": 7,
   "metadata": {},
   "outputs": [
    {
     "name": "stdout",
     "output_type": "stream",
     "text": [
      "sending incremental file list\n",
      "1-PBE-SCF/\n",
      "1-PBE-SCF/INCAR\n",
      "1-PBE-SCF/KPOINTS\n",
      "1-PBE-SCF/POSCAR\n",
      "1-PBE-SCF/POTCAR\n",
      "1-PBE-SCF/job.sh\n",
      "\n",
      "sent 72.56K bytes  received 115 bytes  29.07K bytes/sec\n",
      "total size is 196.69K  speedup is 2.71\n",
      "\n",
      "sending incremental file list\n",
      "2-PBE-DOS/\n",
      "2-PBE-DOS/INCAR\n",
      "2-PBE-DOS/KPOINTS\n",
      "2-PBE-DOS/POSCAR\n",
      "2-PBE-DOS/POTCAR\n",
      "2-PBE-DOS/job.sh\n",
      "\n",
      "sent 72.52K bytes  received 115 bytes  29.05K bytes/sec\n",
      "total size is 196.67K  speedup is 2.71\n",
      "\n",
      "sending incremental file list\n",
      "3-PBE-BS/\n",
      "3-PBE-BS/INCAR\n",
      "3-PBE-BS/KPOINTS\n",
      "3-PBE-BS/POSCAR\n",
      "3-PBE-BS/POTCAR\n",
      "3-PBE-BS/job.sh\n",
      "\n",
      "sent 72.63K bytes  received 115 bytes  29.10K bytes/sec\n",
      "total size is 197.07K  speedup is 2.71\n",
      "\n"
     ]
    }
   ],
   "source": [
    "# sync Dataset folder with HPC to transfer all the files before starting calculations\n",
    "# In order for the automations to work all files need to be present in HPC\n",
    "ds.sync_dataset_to_hpc()"
   ]
  },
  {
   "cell_type": "markdown",
   "metadata": {},
   "source": [
    "Now that we created the Jobs and synced the files we can start the calculations. \n",
    "In this case we need to start the calculation of the first step, the others are automated."
   ]
  },
  {
   "cell_type": "code",
   "execution_count": 8,
   "metadata": {},
   "outputs": [
    {
     "name": "stdout",
     "output_type": "stream",
     "text": [
      "sending incremental file list\n",
      "POSCAR\n",
      "\n",
      "sent 104 bytes  received 41 bytes  58.00 bytes/sec\n",
      "total size is 161  speedup is 1.11\n",
      "\n",
      "sending incremental file list\n",
      "POTCAR\n",
      "\n",
      "sent 106 bytes  received 1.72K bytes  728.40 bytes/sec\n",
      "total size is 195.67K  speedup is 107.45\n",
      "\n",
      "sending incremental file list\n",
      "INCAR\n",
      "\n",
      "sent 103 bytes  received 41 bytes  57.60 bytes/sec\n",
      "total size is 226  speedup is 1.57\n",
      "\n",
      "sending incremental file list\n",
      "KPOINTS\n",
      "\n",
      "sent 105 bytes  received 41 bytes  58.40 bytes/sec\n",
      "total size is 80  speedup is 0.55\n",
      "\n",
      "sending incremental file list\n",
      "job.sh\n",
      "\n",
      "sent 104 bytes  received 41 bytes  58.00 bytes/sec\n",
      "total size is 545  speedup is 3.76\n",
      "\n",
      "Submitted batch job 14746180\n",
      "\u001b[1;37m[I]\u001b[0m Selected project: project01136\n",
      "\u001b[1;37m[I]\u001b[0m Possible CPU types    = Haswell(\u001b[1;32mavx2\u001b[0m)\n",
      "\u001b[1;37m[I]\u001b[0m Possible specials     = short\n",
      "\n"
     ]
    },
    {
     "data": {
      "text/plain": []
     },
     "execution_count": 8,
     "metadata": {},
     "output_type": "execute_result"
    }
   ],
   "source": [
    "job_first_step.run_job(sync=True) #sync files before running, in this case it wouldn't be necessary"
   ]
  },
  {
   "cell_type": "code",
   "execution_count": 15,
   "metadata": {},
   "outputs": [
    {
     "name": "stdout",
     "output_type": "stream",
     "text": [
      "\n",
      "receiving incremental file list\n",
      "CHG\n",
      "CHGCAR\n",
      "CONTCAR\n",
      "DOSCAR\n",
      "EIGENVAL\n",
      "IBZKPT\n",
      "OSZICAR\n",
      "OUTCAR\n",
      "PCDAT\n",
      "PROCAR\n",
      "WAVECAR\n",
      "XDATCAR\n",
      "err.14746180\n",
      "exit_status.txt\n",
      "out.14746180\n",
      "vasprun.xml\n",
      "\n",
      "sent 328 bytes  received 6.14M bytes  945.03K bytes/sec\n",
      "total size is 10.09M  speedup is 1.64\n",
      "\n"
     ]
    }
   ],
   "source": [
    "# First step should be finished, let's get the files. With the sync-hpc.py script running in the background \n",
    "#they will sync automatically periodically\n",
    "\n",
    "job_first_step.sync_from_hpc()"
   ]
  },
  {
   "cell_type": "code",
   "execution_count": 19,
   "metadata": {},
   "outputs": [
    {
     "data": {
      "text/plain": [
       "True"
      ]
     },
     "execution_count": 19,
     "metadata": {},
     "output_type": "execute_result"
    }
   ],
   "source": [
    "# now let's collect the outputs and analyse them\n",
    "job_first_step.get_outputs()\n",
    "job_first_step.is_converged"
   ]
  },
  {
   "cell_type": "code",
   "execution_count": null,
   "metadata": {},
   "outputs": [],
   "source": [
    "ds.queue() \n",
    "# calculations are finished, we can sync them and collect outputs\n",
    "ds.sync_jobs()"
   ]
  },
  {
   "cell_type": "code",
   "execution_count": 22,
   "metadata": {},
   "outputs": [],
   "source": [
    "ds.get_jobs_outputs()"
   ]
  },
  {
   "cell_type": "markdown",
   "metadata": {},
   "source": [
    "Now that we collected the calculations we can check the results"
   ]
  },
  {
   "cell_type": "code",
   "execution_count": 23,
   "metadata": {},
   "outputs": [
    {
     "data": {
      "text/html": [
       "<div>\n",
       "<style scoped>\n",
       "    .dataframe tbody tr th:only-of-type {\n",
       "        vertical-align: middle;\n",
       "    }\n",
       "\n",
       "    .dataframe tbody tr th {\n",
       "        vertical-align: top;\n",
       "    }\n",
       "\n",
       "    .dataframe thead th {\n",
       "        text-align: right;\n",
       "    }\n",
       "</style>\n",
       "<table border=\"1\" class=\"dataframe\">\n",
       "  <thead>\n",
       "    <tr style=\"text-align: right;\">\n",
       "      <th></th>\n",
       "      <th>formula</th>\n",
       "      <th>group</th>\n",
       "      <th>nodes</th>\n",
       "      <th>is_converged</th>\n",
       "    </tr>\n",
       "    <tr>\n",
       "      <th>job_name</th>\n",
       "      <th></th>\n",
       "      <th></th>\n",
       "      <th></th>\n",
       "      <th></th>\n",
       "    </tr>\n",
       "  </thead>\n",
       "  <tbody>\n",
       "    <tr>\n",
       "      <th>Si-BS_PBE-el-str_1</th>\n",
       "      <td>Si2</td>\n",
       "      <td>1-PBE-SCF</td>\n",
       "      <td></td>\n",
       "      <td>True</td>\n",
       "    </tr>\n",
       "    <tr>\n",
       "      <th>Si-BS_PBE-el-str_2</th>\n",
       "      <td>Si2</td>\n",
       "      <td>2-PBE-DOS</td>\n",
       "      <td></td>\n",
       "      <td>True</td>\n",
       "    </tr>\n",
       "    <tr>\n",
       "      <th>Si-BS_PBE-el-str_3</th>\n",
       "      <td>Si2</td>\n",
       "      <td>3-PBE-BS</td>\n",
       "      <td></td>\n",
       "      <td>True</td>\n",
       "    </tr>\n",
       "  </tbody>\n",
       "</table>\n",
       "</div>"
      ],
      "text/plain": [
       "                   formula      group nodes  is_converged\n",
       "job_name                                                 \n",
       "Si-BS_PBE-el-str_1     Si2  1-PBE-SCF                True\n",
       "Si-BS_PBE-el-str_2     Si2  2-PBE-DOS                True\n",
       "Si-BS_PBE-el-str_3     Si2   3-PBE-BS                True"
      ]
     },
     "execution_count": 23,
     "metadata": {},
     "output_type": "execute_result"
    }
   ],
   "source": [
    "ds.jobs_table()"
   ]
  },
  {
   "cell_type": "code",
   "execution_count": 24,
   "metadata": {},
   "outputs": [
    {
     "data": {
      "text/html": [
       "<div>\n",
       "<style scoped>\n",
       "    .dataframe tbody tr th:only-of-type {\n",
       "        vertical-align: middle;\n",
       "    }\n",
       "\n",
       "    .dataframe tbody tr th {\n",
       "        vertical-align: top;\n",
       "    }\n",
       "\n",
       "    .dataframe thead th {\n",
       "        text-align: right;\n",
       "    }\n",
       "</style>\n",
       "<table border=\"1\" class=\"dataframe\">\n",
       "  <thead>\n",
       "    <tr style=\"text-align: right;\">\n",
       "      <th></th>\n",
       "      <th>formula</th>\n",
       "      <th>group</th>\n",
       "      <th>nodes</th>\n",
       "      <th>is_converged</th>\n",
       "      <th>final_energy</th>\n",
       "    </tr>\n",
       "    <tr>\n",
       "      <th>job_name</th>\n",
       "      <th></th>\n",
       "      <th></th>\n",
       "      <th></th>\n",
       "      <th></th>\n",
       "      <th></th>\n",
       "    </tr>\n",
       "  </thead>\n",
       "  <tbody>\n",
       "    <tr>\n",
       "      <th>Si-BS_PBE-el-str_1</th>\n",
       "      <td>Si2</td>\n",
       "      <td>1-PBE-SCF</td>\n",
       "      <td></td>\n",
       "      <td>True</td>\n",
       "      <td>-10.840906</td>\n",
       "    </tr>\n",
       "    <tr>\n",
       "      <th>Si-BS_PBE-el-str_2</th>\n",
       "      <td>Si2</td>\n",
       "      <td>2-PBE-DOS</td>\n",
       "      <td></td>\n",
       "      <td>True</td>\n",
       "      <td>-10.844797</td>\n",
       "    </tr>\n",
       "    <tr>\n",
       "      <th>Si-BS_PBE-el-str_3</th>\n",
       "      <td>Si2</td>\n",
       "      <td>3-PBE-BS</td>\n",
       "      <td></td>\n",
       "      <td>True</td>\n",
       "      <td>-11.002882</td>\n",
       "    </tr>\n",
       "  </tbody>\n",
       "</table>\n",
       "</div>"
      ],
      "text/plain": [
       "                   formula      group nodes  is_converged  final_energy\n",
       "job_name                                                               \n",
       "Si-BS_PBE-el-str_1     Si2  1-PBE-SCF                True    -10.840906\n",
       "Si-BS_PBE-el-str_2     Si2  2-PBE-DOS                True    -10.844797\n",
       "Si-BS_PBE-el-str_3     Si2   3-PBE-BS                True    -11.002882"
      ]
     },
     "execution_count": 24,
     "metadata": {},
     "output_type": "execute_result"
    }
   ],
   "source": [
    "# we could check also the total energies\n",
    "ds.jobs_table(display=['final_energy'])"
   ]
  },
  {
   "cell_type": "code",
   "execution_count": null,
   "metadata": {},
   "outputs": [],
   "source": []
  }
 ],
 "metadata": {
  "kernelspec": {
   "display_name": "Python 3",
   "language": "python",
   "name": "python3"
  },
  "language_info": {
   "codemirror_mode": {
    "name": "ipython",
    "version": 3
   },
   "file_extension": ".py",
   "mimetype": "text/x-python",
   "name": "python",
   "nbconvert_exporter": "python",
   "pygments_lexer": "ipython3",
   "version": "3.7.6"
  }
 },
 "nbformat": 4,
 "nbformat_minor": 4
}
